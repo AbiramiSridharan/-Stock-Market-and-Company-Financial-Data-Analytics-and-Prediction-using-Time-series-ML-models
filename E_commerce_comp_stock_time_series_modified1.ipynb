{
  "nbformat": 4,
  "nbformat_minor": 0,
  "metadata": {
    "colab": {
      "name": "E-commerce comp-stock -time series modified1.ipynb",
      "provenance": [],
      "collapsed_sections": [],
      "mount_file_id": "1WKyLOss0CWtTa8m4bYql_zvyA4cZh1hu",
      "authorship_tag": "ABX9TyNkUUOXkqB/RW48CTwjWhG+",
      "include_colab_link": true
    },
    "kernelspec": {
      "name": "python3",
      "display_name": "Python 3"
    },
    "language_info": {
      "name": "python"
    }
  },
  "cells": [
    {
      "cell_type": "markdown",
      "metadata": {
        "id": "view-in-github",
        "colab_type": "text"
      },
      "source": [
        "<a href=\"https://colab.research.google.com/github/AbiramiSridharan/Time-series-ML--mini-project-on-stock-market-data/blob/main/E_commerce_comp_stock_time_series_modified1.ipynb\" target=\"_parent\"><img src=\"https://colab.research.google.com/assets/colab-badge.svg\" alt=\"Open In Colab\"/></a>"
      ]
    },
    {
      "cell_type": "code",
      "metadata": {
        "id": "KEqVH2bQ_uo_"
      },
      "source": [
        "import numpy as np\n",
        "import pandas as pd\n",
        "import matplotlib.pyplot as plt\n",
        "import plotly as px\n",
        "import matplotlib.dates as mtd\n",
        "import seaborn as sns\n",
        "%matplotlib inline"
      ],
      "execution_count": null,
      "outputs": []
    },
    {
      "cell_type": "markdown",
      "metadata": {
        "id": "gN7IXrRK8CWb"
      },
      "source": [
        "Task1:\n",
        "upload data set"
      ]
    },
    {
      "cell_type": "code",
      "metadata": {
        "colab": {
          "base_uri": "https://localhost:8080/",
          "height": 203
        },
        "id": "E6EcuZ4G_-ag",
        "outputId": "2214123e-e13b-4a31-ed7b-f391a46e444d"
      },
      "source": [
        "dfquarters=pd.read_csv('/content/drive/MyDrive/AbiML/Colab Notebooks/colab datas/EcommerceQuarterlyConsolidate.csv')\n",
        "dfprofitloss=pd.read_csv('/content/drive/MyDrive/AbiML/Colab Notebooks/colab datas/EcommerceProfitlossConsolidate.csv')\n",
        "\n",
        "dfquarters.head()"
      ],
      "execution_count": null,
      "outputs": [
        {
          "output_type": "execute_result",
          "data": {
            "text/html": [
              "<div>\n",
              "<style scoped>\n",
              "    .dataframe tbody tr th:only-of-type {\n",
              "        vertical-align: middle;\n",
              "    }\n",
              "\n",
              "    .dataframe tbody tr th {\n",
              "        vertical-align: top;\n",
              "    }\n",
              "\n",
              "    .dataframe thead th {\n",
              "        text-align: right;\n",
              "    }\n",
              "</style>\n",
              "<table border=\"1\" class=\"dataframe\">\n",
              "  <thead>\n",
              "    <tr style=\"text-align: right;\">\n",
              "      <th></th>\n",
              "      <th>Date</th>\n",
              "      <th>Sales</th>\n",
              "      <th>Expenses</th>\n",
              "      <th>Other Income</th>\n",
              "      <th>Depreciation</th>\n",
              "      <th>Interest</th>\n",
              "      <th>Profit before tax</th>\n",
              "      <th>Tax</th>\n",
              "      <th>Net profit</th>\n",
              "      <th>Operating Profit</th>\n",
              "      <th>Company Name</th>\n",
              "    </tr>\n",
              "  </thead>\n",
              "  <tbody>\n",
              "    <tr>\n",
              "      <th>0</th>\n",
              "      <td>2018-12-31</td>\n",
              "      <td>133.6</td>\n",
              "      <td>106.1</td>\n",
              "      <td>13.4</td>\n",
              "      <td>1.2</td>\n",
              "      <td>NaN</td>\n",
              "      <td>39.7</td>\n",
              "      <td>12.0</td>\n",
              "      <td>27.7</td>\n",
              "      <td>27.5</td>\n",
              "      <td>INDIAMART INTERMESH LTD</td>\n",
              "    </tr>\n",
              "    <tr>\n",
              "      <th>1</th>\n",
              "      <td>2019-03-31</td>\n",
              "      <td>138.0</td>\n",
              "      <td>117.9</td>\n",
              "      <td>14.8</td>\n",
              "      <td>1.2</td>\n",
              "      <td>NaN</td>\n",
              "      <td>33.7</td>\n",
              "      <td>5.5</td>\n",
              "      <td>28.2</td>\n",
              "      <td>20.1</td>\n",
              "      <td>INDIAMART INTERMESH LTD</td>\n",
              "    </tr>\n",
              "    <tr>\n",
              "      <th>2</th>\n",
              "      <td>2019-06-30</td>\n",
              "      <td>147.3</td>\n",
              "      <td>110.6</td>\n",
              "      <td>14.3</td>\n",
              "      <td>4.4</td>\n",
              "      <td>0.4</td>\n",
              "      <td>46.2</td>\n",
              "      <td>13.8</td>\n",
              "      <td>32.4</td>\n",
              "      <td>36.7</td>\n",
              "      <td>INDIAMART INTERMESH LTD</td>\n",
              "    </tr>\n",
              "    <tr>\n",
              "      <th>3</th>\n",
              "      <td>2019-09-30</td>\n",
              "      <td>156.6</td>\n",
              "      <td>120.5</td>\n",
              "      <td>20.5</td>\n",
              "      <td>5.0</td>\n",
              "      <td>0.7</td>\n",
              "      <td>50.9</td>\n",
              "      <td>42.2</td>\n",
              "      <td>8.7</td>\n",
              "      <td>36.1</td>\n",
              "      <td>INDIAMART INTERMESH LTD</td>\n",
              "    </tr>\n",
              "    <tr>\n",
              "      <th>4</th>\n",
              "      <td>2019-12-31</td>\n",
              "      <td>164.9</td>\n",
              "      <td>122.0</td>\n",
              "      <td>16.6</td>\n",
              "      <td>5.8</td>\n",
              "      <td>0.5</td>\n",
              "      <td>53.2</td>\n",
              "      <td>-8.8</td>\n",
              "      <td>62.0</td>\n",
              "      <td>42.9</td>\n",
              "      <td>INDIAMART INTERMESH LTD</td>\n",
              "    </tr>\n",
              "  </tbody>\n",
              "</table>\n",
              "</div>"
            ],
            "text/plain": [
              "         Date   Sales   ...   Operating Profit              Company Name\n",
              "0  2018-12-31    133.6  ...                27.5  INDIAMART INTERMESH LTD\n",
              "1  2019-03-31    138.0  ...                20.1  INDIAMART INTERMESH LTD\n",
              "2  2019-06-30    147.3  ...                36.7  INDIAMART INTERMESH LTD\n",
              "3  2019-09-30    156.6  ...                36.1  INDIAMART INTERMESH LTD\n",
              "4  2019-12-31    164.9  ...                42.9  INDIAMART INTERMESH LTD\n",
              "\n",
              "[5 rows x 11 columns]"
            ]
          },
          "metadata": {
            "tags": []
          },
          "execution_count": 178
        }
      ]
    },
    {
      "cell_type": "code",
      "metadata": {
        "id": "DgGDh-CjDys4"
      },
      "source": [
        "dfquarters = dfquarters.rename(columns = {' Date': 'Date'}, inplace = False)"
      ],
      "execution_count": null,
      "outputs": []
    },
    {
      "cell_type": "code",
      "metadata": {
        "colab": {
          "base_uri": "https://localhost:8080/",
          "height": 203
        },
        "id": "Am8EooiXozfn",
        "outputId": "3b75f4a2-21ea-467b-b7f3-362464e5e34b"
      },
      "source": [
        "dfprofitloss.head()\n"
      ],
      "execution_count": null,
      "outputs": [
        {
          "output_type": "execute_result",
          "data": {
            "text/html": [
              "<div>\n",
              "<style scoped>\n",
              "    .dataframe tbody tr th:only-of-type {\n",
              "        vertical-align: middle;\n",
              "    }\n",
              "\n",
              "    .dataframe tbody tr th {\n",
              "        vertical-align: top;\n",
              "    }\n",
              "\n",
              "    .dataframe thead th {\n",
              "        text-align: right;\n",
              "    }\n",
              "</style>\n",
              "<table border=\"1\" class=\"dataframe\">\n",
              "  <thead>\n",
              "    <tr style=\"text-align: right;\">\n",
              "      <th></th>\n",
              "      <th>Date</th>\n",
              "      <th>Sales</th>\n",
              "      <th>Expenses</th>\n",
              "      <th>Operating Profit</th>\n",
              "      <th>Other Income</th>\n",
              "      <th>Depreciation</th>\n",
              "      <th>Interest</th>\n",
              "      <th>Profit before tax</th>\n",
              "      <th>Tax</th>\n",
              "      <th>Net profit</th>\n",
              "      <th>Company Name</th>\n",
              "    </tr>\n",
              "  </thead>\n",
              "  <tbody>\n",
              "    <tr>\n",
              "      <th>0</th>\n",
              "      <td>2015-03-31</td>\n",
              "      <td>176.07</td>\n",
              "      <td>216.41</td>\n",
              "      <td>-40.34</td>\n",
              "      <td>11.96</td>\n",
              "      <td>3.02</td>\n",
              "      <td>0.47</td>\n",
              "      <td>-31.87</td>\n",
              "      <td>0.02</td>\n",
              "      <td>-31.89</td>\n",
              "      <td>INDIAMART INTERMESH LTD</td>\n",
              "    </tr>\n",
              "    <tr>\n",
              "      <th>1</th>\n",
              "      <td>2016-03-31</td>\n",
              "      <td>254.29</td>\n",
              "      <td>369.78</td>\n",
              "      <td>-115.49</td>\n",
              "      <td>4.75</td>\n",
              "      <td>3.67</td>\n",
              "      <td>1.04</td>\n",
              "      <td>-115.45</td>\n",
              "      <td>0.45</td>\n",
              "      <td>-115.91</td>\n",
              "      <td>INDIAMART INTERMESH LTD</td>\n",
              "    </tr>\n",
              "    <tr>\n",
              "      <th>2</th>\n",
              "      <td>2017-03-31</td>\n",
              "      <td>317.76</td>\n",
              "      <td>391.44</td>\n",
              "      <td>-73.68</td>\n",
              "      <td>14.17</td>\n",
              "      <td>4.63</td>\n",
              "      <td>-</td>\n",
              "      <td>-64.14</td>\n",
              "      <td>0.20</td>\n",
              "      <td>-64.35</td>\n",
              "      <td>INDIAMART INTERMESH LTD</td>\n",
              "    </tr>\n",
              "    <tr>\n",
              "      <th>3</th>\n",
              "      <td>2018-03-31</td>\n",
              "      <td>410.51</td>\n",
              "      <td>486.74</td>\n",
              "      <td>-76.23</td>\n",
              "      <td>19.02</td>\n",
              "      <td>2.89</td>\n",
              "      <td>-</td>\n",
              "      <td>-60.10</td>\n",
              "      <td>-114.86</td>\n",
              "      <td>54.76</td>\n",
              "      <td>INDIAMART INTERMESH LTD</td>\n",
              "    </tr>\n",
              "    <tr>\n",
              "      <th>4</th>\n",
              "      <td>2019-03-31</td>\n",
              "      <td>507.42</td>\n",
              "      <td>490.34</td>\n",
              "      <td>17.08</td>\n",
              "      <td>40.97</td>\n",
              "      <td>4.13</td>\n",
              "      <td>-</td>\n",
              "      <td>53.92</td>\n",
              "      <td>33.88</td>\n",
              "      <td>20.04</td>\n",
              "      <td>INDIAMART INTERMESH LTD</td>\n",
              "    </tr>\n",
              "  </tbody>\n",
              "</table>\n",
              "</div>"
            ],
            "text/plain": [
              "         Date   Sales  Expenses  ...     Tax  Net profit             Company Name\n",
              "0  2015-03-31  176.07    216.41  ...    0.02      -31.89  INDIAMART INTERMESH LTD\n",
              "1  2016-03-31  254.29    369.78  ...    0.45     -115.91  INDIAMART INTERMESH LTD\n",
              "2  2017-03-31  317.76    391.44  ...    0.20      -64.35  INDIAMART INTERMESH LTD\n",
              "3  2018-03-31  410.51    486.74  ... -114.86       54.76  INDIAMART INTERMESH LTD\n",
              "4  2019-03-31  507.42    490.34  ...   33.88       20.04  INDIAMART INTERMESH LTD\n",
              "\n",
              "[5 rows x 11 columns]"
            ]
          },
          "metadata": {
            "tags": []
          },
          "execution_count": 180
        }
      ]
    },
    {
      "cell_type": "code",
      "metadata": {
        "colab": {
          "base_uri": "https://localhost:8080/",
          "height": 295
        },
        "id": "nVMzeP5iG01Z",
        "outputId": "51a2b1b7-72e1-4c97-e6d0-c84e3fc3ce0f"
      },
      "source": [
        "dfprofitloss.describe()"
      ],
      "execution_count": null,
      "outputs": [
        {
          "output_type": "execute_result",
          "data": {
            "text/html": [
              "<div>\n",
              "<style scoped>\n",
              "    .dataframe tbody tr th:only-of-type {\n",
              "        vertical-align: middle;\n",
              "    }\n",
              "\n",
              "    .dataframe tbody tr th {\n",
              "        vertical-align: top;\n",
              "    }\n",
              "\n",
              "    .dataframe thead th {\n",
              "        text-align: right;\n",
              "    }\n",
              "</style>\n",
              "<table border=\"1\" class=\"dataframe\">\n",
              "  <thead>\n",
              "    <tr style=\"text-align: right;\">\n",
              "      <th></th>\n",
              "      <th>Sales</th>\n",
              "      <th>Expenses</th>\n",
              "      <th>Operating Profit</th>\n",
              "      <th>Other Income</th>\n",
              "      <th>Depreciation</th>\n",
              "      <th>Profit before tax</th>\n",
              "      <th>Tax</th>\n",
              "      <th>Net profit</th>\n",
              "    </tr>\n",
              "  </thead>\n",
              "  <tbody>\n",
              "    <tr>\n",
              "      <th>count</th>\n",
              "      <td>40.000000</td>\n",
              "      <td>40.000000</td>\n",
              "      <td>40.000000</td>\n",
              "      <td>40.000000</td>\n",
              "      <td>40.000000</td>\n",
              "      <td>40.000000</td>\n",
              "      <td>40.000000</td>\n",
              "      <td>40.000000</td>\n",
              "    </tr>\n",
              "    <tr>\n",
              "      <th>mean</th>\n",
              "      <td>472.447750</td>\n",
              "      <td>418.408000</td>\n",
              "      <td>54.039750</td>\n",
              "      <td>109.602750</td>\n",
              "      <td>16.214000</td>\n",
              "      <td>145.141250</td>\n",
              "      <td>36.017750</td>\n",
              "      <td>112.757500</td>\n",
              "    </tr>\n",
              "    <tr>\n",
              "      <th>std</th>\n",
              "      <td>359.378266</td>\n",
              "      <td>352.052129</td>\n",
              "      <td>116.544772</td>\n",
              "      <td>274.118992</td>\n",
              "      <td>17.134242</td>\n",
              "      <td>291.443527</td>\n",
              "      <td>49.260373</td>\n",
              "      <td>257.253917</td>\n",
              "    </tr>\n",
              "    <tr>\n",
              "      <th>min</th>\n",
              "      <td>0.000000</td>\n",
              "      <td>0.300000</td>\n",
              "      <td>-350.520000</td>\n",
              "      <td>-0.170000</td>\n",
              "      <td>0.060000</td>\n",
              "      <td>-125.760000</td>\n",
              "      <td>-114.860000</td>\n",
              "      <td>-237.620000</td>\n",
              "    </tr>\n",
              "    <tr>\n",
              "      <th>25%</th>\n",
              "      <td>177.165000</td>\n",
              "      <td>148.570000</td>\n",
              "      <td>0.382500</td>\n",
              "      <td>2.795000</td>\n",
              "      <td>0.832500</td>\n",
              "      <td>1.645000</td>\n",
              "      <td>0.570000</td>\n",
              "      <td>1.140000</td>\n",
              "    </tr>\n",
              "    <tr>\n",
              "      <th>50%</th>\n",
              "      <td>435.900000</td>\n",
              "      <td>366.365000</td>\n",
              "      <td>16.360000</td>\n",
              "      <td>37.710000</td>\n",
              "      <td>8.670000</td>\n",
              "      <td>56.735000</td>\n",
              "      <td>34.510000</td>\n",
              "      <td>37.595000</td>\n",
              "    </tr>\n",
              "    <tr>\n",
              "      <th>75%</th>\n",
              "      <td>722.080000</td>\n",
              "      <td>611.077500</td>\n",
              "      <td>123.622500</td>\n",
              "      <td>86.707500</td>\n",
              "      <td>29.997500</td>\n",
              "      <td>191.127500</td>\n",
              "      <td>57.787500</td>\n",
              "      <td>139.822500</td>\n",
              "    </tr>\n",
              "    <tr>\n",
              "      <th>max</th>\n",
              "      <td>1311.930000</td>\n",
              "      <td>1662.450000</td>\n",
              "      <td>325.500000</td>\n",
              "      <td>1583.510000</td>\n",
              "      <td>52.070000</td>\n",
              "      <td>1589.310000</td>\n",
              "      <td>180.500000</td>\n",
              "      <td>1407.080000</td>\n",
              "    </tr>\n",
              "  </tbody>\n",
              "</table>\n",
              "</div>"
            ],
            "text/plain": [
              "             Sales     Expenses  ...         Tax   Net profit\n",
              "count    40.000000    40.000000  ...   40.000000    40.000000\n",
              "mean    472.447750   418.408000  ...   36.017750   112.757500\n",
              "std     359.378266   352.052129  ...   49.260373   257.253917\n",
              "min       0.000000     0.300000  ... -114.860000  -237.620000\n",
              "25%     177.165000   148.570000  ...    0.570000     1.140000\n",
              "50%     435.900000   366.365000  ...   34.510000    37.595000\n",
              "75%     722.080000   611.077500  ...   57.787500   139.822500\n",
              "max    1311.930000  1662.450000  ...  180.500000  1407.080000\n",
              "\n",
              "[8 rows x 8 columns]"
            ]
          },
          "metadata": {
            "tags": []
          },
          "execution_count": 181
        }
      ]
    },
    {
      "cell_type": "code",
      "metadata": {
        "colab": {
          "base_uri": "https://localhost:8080/",
          "height": 295
        },
        "id": "JPUMOuVYG8cA",
        "outputId": "94966fe8-f639-4ff2-f905-6787968dd20e"
      },
      "source": [
        "dfquarters.describe()"
      ],
      "execution_count": null,
      "outputs": [
        {
          "output_type": "execute_result",
          "data": {
            "text/html": [
              "<div>\n",
              "<style scoped>\n",
              "    .dataframe tbody tr th:only-of-type {\n",
              "        vertical-align: middle;\n",
              "    }\n",
              "\n",
              "    .dataframe tbody tr th {\n",
              "        vertical-align: top;\n",
              "    }\n",
              "\n",
              "    .dataframe thead th {\n",
              "        text-align: right;\n",
              "    }\n",
              "</style>\n",
              "<table border=\"1\" class=\"dataframe\">\n",
              "  <thead>\n",
              "    <tr style=\"text-align: right;\">\n",
              "      <th></th>\n",
              "      <th>Sales</th>\n",
              "      <th>Expenses</th>\n",
              "      <th>Other Income</th>\n",
              "      <th>Depreciation</th>\n",
              "      <th>Interest</th>\n",
              "      <th>Profit before tax</th>\n",
              "      <th>Tax</th>\n",
              "      <th>Net profit</th>\n",
              "      <th>Operating Profit</th>\n",
              "    </tr>\n",
              "  </thead>\n",
              "  <tbody>\n",
              "    <tr>\n",
              "      <th>count</th>\n",
              "      <td>45.000000</td>\n",
              "      <td>45.000000</td>\n",
              "      <td>45.000000</td>\n",
              "      <td>45.000000</td>\n",
              "      <td>43.000000</td>\n",
              "      <td>45.000000</td>\n",
              "      <td>45.000000</td>\n",
              "      <td>45.000000</td>\n",
              "      <td>45.000000</td>\n",
              "    </tr>\n",
              "    <tr>\n",
              "      <th>mean</th>\n",
              "      <td>161.869556</td>\n",
              "      <td>142.955111</td>\n",
              "      <td>10.981111</td>\n",
              "      <td>67.066222</td>\n",
              "      <td>5.400465</td>\n",
              "      <td>15.845556</td>\n",
              "      <td>71.536889</td>\n",
              "      <td>23.035778</td>\n",
              "      <td>67.240000</td>\n",
              "    </tr>\n",
              "    <tr>\n",
              "      <th>std</th>\n",
              "      <td>103.281258</td>\n",
              "      <td>120.635310</td>\n",
              "      <td>48.064417</td>\n",
              "      <td>152.508512</td>\n",
              "      <td>5.529777</td>\n",
              "      <td>30.467596</td>\n",
              "      <td>147.506677</td>\n",
              "      <td>25.923481</td>\n",
              "      <td>136.937735</td>\n",
              "    </tr>\n",
              "    <tr>\n",
              "      <th>min</th>\n",
              "      <td>5.500000</td>\n",
              "      <td>6.770000</td>\n",
              "      <td>-164.150000</td>\n",
              "      <td>0.020000</td>\n",
              "      <td>0.070000</td>\n",
              "      <td>0.040000</td>\n",
              "      <td>-150.120000</td>\n",
              "      <td>0.000000</td>\n",
              "      <td>-187.580000</td>\n",
              "    </tr>\n",
              "    <tr>\n",
              "      <th>25%</th>\n",
              "      <td>52.890000</td>\n",
              "      <td>51.470000</td>\n",
              "      <td>0.330000</td>\n",
              "      <td>1.000000</td>\n",
              "      <td>0.240000</td>\n",
              "      <td>0.570000</td>\n",
              "      <td>0.620000</td>\n",
              "      <td>1.310000</td>\n",
              "      <td>0.650000</td>\n",
              "    </tr>\n",
              "    <tr>\n",
              "      <th>50%</th>\n",
              "      <td>164.900000</td>\n",
              "      <td>118.500000</td>\n",
              "      <td>13.400000</td>\n",
              "      <td>5.000000</td>\n",
              "      <td>1.800000</td>\n",
              "      <td>1.490000</td>\n",
              "      <td>23.400000</td>\n",
              "      <td>17.990000</td>\n",
              "      <td>36.700000</td>\n",
              "    </tr>\n",
              "    <tr>\n",
              "      <th>75%</th>\n",
              "      <td>240.170000</td>\n",
              "      <td>175.310000</td>\n",
              "      <td>36.190000</td>\n",
              "      <td>32.240000</td>\n",
              "      <td>11.865000</td>\n",
              "      <td>2.520000</td>\n",
              "      <td>80.690000</td>\n",
              "      <td>29.230000</td>\n",
              "      <td>76.940000</td>\n",
              "    </tr>\n",
              "    <tr>\n",
              "      <th>max</th>\n",
              "      <td>335.060000</td>\n",
              "      <td>483.890000</td>\n",
              "      <td>104.020000</td>\n",
              "      <td>737.740000</td>\n",
              "      <td>13.630000</td>\n",
              "      <td>106.500000</td>\n",
              "      <td>697.040000</td>\n",
              "      <td>118.890000</td>\n",
              "      <td>679.170000</td>\n",
              "    </tr>\n",
              "  </tbody>\n",
              "</table>\n",
              "</div>"
            ],
            "text/plain": [
              "           Sales    Expenses   ...   Net profit    Operating Profit \n",
              "count   45.000000   45.000000  ...     45.000000           45.000000\n",
              "mean   161.869556  142.955111  ...     23.035778           67.240000\n",
              "std    103.281258  120.635310  ...     25.923481          136.937735\n",
              "min      5.500000    6.770000  ...      0.000000         -187.580000\n",
              "25%     52.890000   51.470000  ...      1.310000            0.650000\n",
              "50%    164.900000  118.500000  ...     17.990000           36.700000\n",
              "75%    240.170000  175.310000  ...     29.230000           76.940000\n",
              "max    335.060000  483.890000  ...    118.890000          679.170000\n",
              "\n",
              "[8 rows x 9 columns]"
            ]
          },
          "metadata": {
            "tags": []
          },
          "execution_count": 182
        }
      ]
    },
    {
      "cell_type": "markdown",
      "metadata": {
        "id": "Thyl1mPJHCGB"
      },
      "source": [
        "**Checking NULL values**"
      ]
    },
    {
      "cell_type": "code",
      "metadata": {
        "colab": {
          "base_uri": "https://localhost:8080/"
        },
        "id": "52E7t9i6GbrO",
        "outputId": "95096b16-b9b4-4261-896e-053d078cfdc8"
      },
      "source": [
        "dfprofitloss['Date']=pd.to_datetime(dfprofitloss['Date'])\n",
        "dfprofitloss.info()"
      ],
      "execution_count": null,
      "outputs": [
        {
          "output_type": "stream",
          "text": [
            "<class 'pandas.core.frame.DataFrame'>\n",
            "RangeIndex: 40 entries, 0 to 39\n",
            "Data columns (total 11 columns):\n",
            " #   Column             Non-Null Count  Dtype         \n",
            "---  ------             --------------  -----         \n",
            " 0   Date               40 non-null     datetime64[ns]\n",
            " 1   Sales              40 non-null     float64       \n",
            " 2   Expenses           40 non-null     float64       \n",
            " 3   Operating Profit   40 non-null     float64       \n",
            " 4   Other Income       40 non-null     float64       \n",
            " 5   Depreciation       40 non-null     float64       \n",
            " 6   Interest           40 non-null     object        \n",
            " 7   Profit before tax  40 non-null     float64       \n",
            " 8   Tax                40 non-null     float64       \n",
            " 9   Net profit         40 non-null     float64       \n",
            " 10  Company Name       40 non-null     object        \n",
            "dtypes: datetime64[ns](1), float64(8), object(2)\n",
            "memory usage: 3.6+ KB\n"
          ],
          "name": "stdout"
        }
      ]
    },
    {
      "cell_type": "code",
      "metadata": {
        "colab": {
          "base_uri": "https://localhost:8080/"
        },
        "id": "nwWfcF0oGhO5",
        "outputId": "809bd870-d7f4-45e4-a777-fdd38cf74f1c"
      },
      "source": [
        "dfquarters['Date']=pd.to_datetime(dfquarters['Date'])\n",
        "dfquarters.info()"
      ],
      "execution_count": null,
      "outputs": [
        {
          "output_type": "stream",
          "text": [
            "<class 'pandas.core.frame.DataFrame'>\n",
            "RangeIndex: 45 entries, 0 to 44\n",
            "Data columns (total 11 columns):\n",
            " #   Column               Non-Null Count  Dtype         \n",
            "---  ------               --------------  -----         \n",
            " 0   Date                 45 non-null     datetime64[ns]\n",
            " 1    Sales               45 non-null     float64       \n",
            " 2    Expenses            45 non-null     float64       \n",
            " 3    Other Income        45 non-null     float64       \n",
            " 4    Depreciation        45 non-null     float64       \n",
            " 5    Interest            43 non-null     float64       \n",
            " 6    Profit before tax   45 non-null     float64       \n",
            " 7    Tax                 45 non-null     float64       \n",
            " 8    Net profit          45 non-null     float64       \n",
            " 9    Operating Profit    45 non-null     float64       \n",
            " 10  Company Name         45 non-null     object        \n",
            "dtypes: datetime64[ns](1), float64(9), object(1)\n",
            "memory usage: 4.0+ KB\n"
          ],
          "name": "stdout"
        }
      ]
    },
    {
      "cell_type": "markdown",
      "metadata": {
        "id": "jTbRn6DPHLed"
      },
      "source": [
        "**null values in date wise are not exposed, so we can group it and analyse**"
      ]
    },
    {
      "cell_type": "code",
      "metadata": {
        "colab": {
          "base_uri": "https://localhost:8080/",
          "height": 234
        },
        "id": "ZCMcVznaGqQo",
        "outputId": "eec8cfde-d46c-4308-fa4b-d9ffe045d37e"
      },
      "source": [
        "dfprofitloss.groupby('Company Name').count()"
      ],
      "execution_count": null,
      "outputs": [
        {
          "output_type": "execute_result",
          "data": {
            "text/html": [
              "<div>\n",
              "<style scoped>\n",
              "    .dataframe tbody tr th:only-of-type {\n",
              "        vertical-align: middle;\n",
              "    }\n",
              "\n",
              "    .dataframe tbody tr th {\n",
              "        vertical-align: top;\n",
              "    }\n",
              "\n",
              "    .dataframe thead th {\n",
              "        text-align: right;\n",
              "    }\n",
              "</style>\n",
              "<table border=\"1\" class=\"dataframe\">\n",
              "  <thead>\n",
              "    <tr style=\"text-align: right;\">\n",
              "      <th></th>\n",
              "      <th>Date</th>\n",
              "      <th>Sales</th>\n",
              "      <th>Expenses</th>\n",
              "      <th>Operating Profit</th>\n",
              "      <th>Other Income</th>\n",
              "      <th>Depreciation</th>\n",
              "      <th>Interest</th>\n",
              "      <th>Profit before tax</th>\n",
              "      <th>Tax</th>\n",
              "      <th>Net profit</th>\n",
              "    </tr>\n",
              "    <tr>\n",
              "      <th>Company Name</th>\n",
              "      <th></th>\n",
              "      <th></th>\n",
              "      <th></th>\n",
              "      <th></th>\n",
              "      <th></th>\n",
              "      <th></th>\n",
              "      <th></th>\n",
              "      <th></th>\n",
              "      <th></th>\n",
              "      <th></th>\n",
              "    </tr>\n",
              "  </thead>\n",
              "  <tbody>\n",
              "    <tr>\n",
              "      <th>INDIAMART INTERMESH LTD</th>\n",
              "      <td>7</td>\n",
              "      <td>7</td>\n",
              "      <td>7</td>\n",
              "      <td>7</td>\n",
              "      <td>7</td>\n",
              "      <td>7</td>\n",
              "      <td>7</td>\n",
              "      <td>7</td>\n",
              "      <td>7</td>\n",
              "      <td>7</td>\n",
              "    </tr>\n",
              "    <tr>\n",
              "      <th>INFO EDGE (INDIA) LTD</th>\n",
              "      <td>10</td>\n",
              "      <td>10</td>\n",
              "      <td>10</td>\n",
              "      <td>10</td>\n",
              "      <td>10</td>\n",
              "      <td>10</td>\n",
              "      <td>10</td>\n",
              "      <td>10</td>\n",
              "      <td>10</td>\n",
              "      <td>10</td>\n",
              "    </tr>\n",
              "    <tr>\n",
              "      <th>JUST DIAL LTD</th>\n",
              "      <td>10</td>\n",
              "      <td>10</td>\n",
              "      <td>10</td>\n",
              "      <td>10</td>\n",
              "      <td>10</td>\n",
              "      <td>10</td>\n",
              "      <td>10</td>\n",
              "      <td>10</td>\n",
              "      <td>10</td>\n",
              "      <td>10</td>\n",
              "    </tr>\n",
              "    <tr>\n",
              "      <th>NURECA LTD</th>\n",
              "      <td>3</td>\n",
              "      <td>3</td>\n",
              "      <td>3</td>\n",
              "      <td>3</td>\n",
              "      <td>3</td>\n",
              "      <td>3</td>\n",
              "      <td>3</td>\n",
              "      <td>3</td>\n",
              "      <td>3</td>\n",
              "      <td>3</td>\n",
              "    </tr>\n",
              "    <tr>\n",
              "      <th>OLYMPIA INDUSTRIES LTD</th>\n",
              "      <td>10</td>\n",
              "      <td>10</td>\n",
              "      <td>10</td>\n",
              "      <td>10</td>\n",
              "      <td>10</td>\n",
              "      <td>10</td>\n",
              "      <td>10</td>\n",
              "      <td>10</td>\n",
              "      <td>10</td>\n",
              "      <td>10</td>\n",
              "    </tr>\n",
              "  </tbody>\n",
              "</table>\n",
              "</div>"
            ],
            "text/plain": [
              "                         Date  Sales  ...  Tax  Net profit\n",
              "Company Name                          ...                 \n",
              "INDIAMART INTERMESH LTD     7      7  ...    7           7\n",
              "INFO EDGE (INDIA) LTD      10     10  ...   10          10\n",
              "JUST DIAL LTD              10     10  ...   10          10\n",
              "NURECA LTD                  3      3  ...    3           3\n",
              "OLYMPIA INDUSTRIES LTD     10     10  ...   10          10\n",
              "\n",
              "[5 rows x 10 columns]"
            ]
          },
          "metadata": {
            "tags": []
          },
          "execution_count": 185
        }
      ]
    },
    {
      "cell_type": "code",
      "metadata": {
        "colab": {
          "base_uri": "https://localhost:8080/",
          "height": 234
        },
        "id": "q_eIi2U48W18",
        "outputId": "1fc04305-6c99-4f52-f6bb-8a7859ac88cd"
      },
      "source": [
        "dfquarters.groupby('Company Name').count()"
      ],
      "execution_count": null,
      "outputs": [
        {
          "output_type": "execute_result",
          "data": {
            "text/html": [
              "<div>\n",
              "<style scoped>\n",
              "    .dataframe tbody tr th:only-of-type {\n",
              "        vertical-align: middle;\n",
              "    }\n",
              "\n",
              "    .dataframe tbody tr th {\n",
              "        vertical-align: top;\n",
              "    }\n",
              "\n",
              "    .dataframe thead th {\n",
              "        text-align: right;\n",
              "    }\n",
              "</style>\n",
              "<table border=\"1\" class=\"dataframe\">\n",
              "  <thead>\n",
              "    <tr style=\"text-align: right;\">\n",
              "      <th></th>\n",
              "      <th>Date</th>\n",
              "      <th>Sales</th>\n",
              "      <th>Expenses</th>\n",
              "      <th>Other Income</th>\n",
              "      <th>Depreciation</th>\n",
              "      <th>Interest</th>\n",
              "      <th>Profit before tax</th>\n",
              "      <th>Tax</th>\n",
              "      <th>Net profit</th>\n",
              "      <th>Operating Profit</th>\n",
              "    </tr>\n",
              "    <tr>\n",
              "      <th>Company Name</th>\n",
              "      <th></th>\n",
              "      <th></th>\n",
              "      <th></th>\n",
              "      <th></th>\n",
              "      <th></th>\n",
              "      <th></th>\n",
              "      <th></th>\n",
              "      <th></th>\n",
              "      <th></th>\n",
              "      <th></th>\n",
              "    </tr>\n",
              "  </thead>\n",
              "  <tbody>\n",
              "    <tr>\n",
              "      <th>INDIAMART INTERMESH LTD</th>\n",
              "      <td>10</td>\n",
              "      <td>10</td>\n",
              "      <td>10</td>\n",
              "      <td>10</td>\n",
              "      <td>10</td>\n",
              "      <td>8</td>\n",
              "      <td>10</td>\n",
              "      <td>10</td>\n",
              "      <td>10</td>\n",
              "      <td>10</td>\n",
              "    </tr>\n",
              "    <tr>\n",
              "      <th>INFO EDGE (INDIA) LTD</th>\n",
              "      <td>10</td>\n",
              "      <td>10</td>\n",
              "      <td>10</td>\n",
              "      <td>10</td>\n",
              "      <td>10</td>\n",
              "      <td>10</td>\n",
              "      <td>10</td>\n",
              "      <td>10</td>\n",
              "      <td>10</td>\n",
              "      <td>10</td>\n",
              "    </tr>\n",
              "    <tr>\n",
              "      <th>JUST DIAL LTD</th>\n",
              "      <td>10</td>\n",
              "      <td>10</td>\n",
              "      <td>10</td>\n",
              "      <td>10</td>\n",
              "      <td>10</td>\n",
              "      <td>10</td>\n",
              "      <td>10</td>\n",
              "      <td>10</td>\n",
              "      <td>10</td>\n",
              "      <td>10</td>\n",
              "    </tr>\n",
              "    <tr>\n",
              "      <th>NURECA LTD</th>\n",
              "      <td>5</td>\n",
              "      <td>5</td>\n",
              "      <td>5</td>\n",
              "      <td>5</td>\n",
              "      <td>5</td>\n",
              "      <td>5</td>\n",
              "      <td>5</td>\n",
              "      <td>5</td>\n",
              "      <td>5</td>\n",
              "      <td>5</td>\n",
              "    </tr>\n",
              "    <tr>\n",
              "      <th>OLYMPIA INDUSTRIES LTD</th>\n",
              "      <td>10</td>\n",
              "      <td>10</td>\n",
              "      <td>10</td>\n",
              "      <td>10</td>\n",
              "      <td>10</td>\n",
              "      <td>10</td>\n",
              "      <td>10</td>\n",
              "      <td>10</td>\n",
              "      <td>10</td>\n",
              "      <td>10</td>\n",
              "    </tr>\n",
              "  </tbody>\n",
              "</table>\n",
              "</div>"
            ],
            "text/plain": [
              "                         Date   Sales   ...   Net profit    Operating Profit \n",
              "Company Name                            ...                                  \n",
              "INDIAMART INTERMESH LTD    10       10  ...            10                  10\n",
              "INFO EDGE (INDIA) LTD      10       10  ...            10                  10\n",
              "JUST DIAL LTD              10       10  ...            10                  10\n",
              "NURECA LTD                  5        5  ...             5                   5\n",
              "OLYMPIA INDUSTRIES LTD     10       10  ...            10                  10\n",
              "\n",
              "[5 rows x 10 columns]"
            ]
          },
          "metadata": {
            "tags": []
          },
          "execution_count": 186
        }
      ]
    },
    {
      "cell_type": "markdown",
      "metadata": {
        "id": "gd7yOfHjqv2g"
      },
      "source": [
        "# ProfitLoss--> Expenses Analysis"
      ]
    },
    {
      "cell_type": "code",
      "metadata": {
        "colab": {
          "base_uri": "https://localhost:8080/",
          "height": 69
        },
        "id": "ye3Q-F3yzc5C",
        "outputId": "9156f26c-2fd0-46ea-f45d-bfc39d8051ee"
      },
      "source": [
        "'''with plt.xkcd():\n",
        "    fig, ax=plt.subplots(nrows=5, figsize=[20,20], sharex=True, sharey=True)\n",
        "    ax=ax.flatten()\n",
        "\n",
        "    for i,s in enumerate(dfprofitloss['Company Name'].unique()):\n",
        "        data1=dfprofitloss[dfprofitloss['Company Name']==s][['Date','Expenses']]\n",
        "        sns.lineplot(data=data1, x='Date',y='Expenses', ax=ax[i])\n",
        "        ax[i].set_title(s)'''"
      ],
      "execution_count": null,
      "outputs": [
        {
          "output_type": "execute_result",
          "data": {
            "application/vnd.google.colaboratory.intrinsic+json": {
              "type": "string"
            },
            "text/plain": [
              "\"with plt.xkcd():\\n    fig, ax=plt.subplots(nrows=5, figsize=[20,20], sharex=True, sharey=True)\\n    ax=ax.flatten()\\n\\n    for i,s in enumerate(dfprofitloss['Company Name'].unique()):\\n        data1=dfprofitloss[dfprofitloss['Company Name']==s][['Date','Expenses']]\\n        sns.lineplot(data=data1, x='Date',y='Expenses', ax=ax[i])\\n        ax[i].set_title(s)\""
            ]
          },
          "metadata": {
            "tags": []
          },
          "execution_count": 187
        }
      ]
    },
    {
      "cell_type": "code",
      "metadata": {
        "colab": {
          "base_uri": "https://localhost:8080/",
          "height": 1000
        },
        "id": "fYILuPfH9bOu",
        "outputId": "59b2e7ab-1d9a-40c4-988e-7a9afb3c9229"
      },
      "source": [
        "import plotly.express as px\n",
        "with plt.xkcd():\n",
        "  fig = px.area(dfprofitloss,x='Date',y='Expenses',facet_col=\"Company Name\", facet_col_wrap=2,color=\"Company Name\",height=1000)\n",
        "  fig.show()"
      ],
      "execution_count": null,
      "outputs": [
        {
          "output_type": "display_data",
          "data": {
            "text/html": [
              "<html>\n",
              "<head><meta charset=\"utf-8\" /></head>\n",
              "<body>\n",
              "    <div>\n",
              "            <script src=\"https://cdnjs.cloudflare.com/ajax/libs/mathjax/2.7.5/MathJax.js?config=TeX-AMS-MML_SVG\"></script><script type=\"text/javascript\">if (window.MathJax) {MathJax.Hub.Config({SVG: {font: \"STIX-Web\"}});}</script>\n",
              "                <script type=\"text/javascript\">window.PlotlyConfig = {MathJaxConfig: 'local'};</script>\n",
              "        <script src=\"https://cdn.plot.ly/plotly-latest.min.js\"></script>    \n",
              "            <div id=\"7f78acfb-0cfb-49b7-bc3a-e2d7239902f0\" class=\"plotly-graph-div\" style=\"height:1000px; width:100%;\"></div>\n",
              "            <script type=\"text/javascript\">\n",
              "                \n",
              "                    window.PLOTLYENV=window.PLOTLYENV || {};\n",
              "                    \n",
              "                if (document.getElementById(\"7f78acfb-0cfb-49b7-bc3a-e2d7239902f0\")) {\n",
              "                    Plotly.newPlot(\n",
              "                        '7f78acfb-0cfb-49b7-bc3a-e2d7239902f0',\n",
              "                        [{\"hoverlabel\": {\"namelength\": 0}, \"hovertemplate\": \"Company Name=INDIAMART INTERMESH LTD<br>Date=%{x}<br>Expenses=%{y}\", \"legendgroup\": \"Company Name=INDIAMART INTERMESH LTD\", \"line\": {\"color\": \"#636efa\"}, \"mode\": \"lines\", \"name\": \"Company Name=INDIAMART INTERMESH LTD\", \"orientation\": \"v\", \"showlegend\": true, \"stackgroup\": \"1\", \"type\": \"scatter\", \"x\": [\"2015-03-31T00:00:00\", \"2016-03-31T00:00:00\", \"2017-03-31T00:00:00\", \"2018-03-31T00:00:00\", \"2019-03-31T00:00:00\", \"2020-03-31T00:00:00\", \"2021-03-31T00:00:00\"], \"xaxis\": \"x5\", \"y\": [216.41, 369.78, 391.44, 486.74, 490.34, 471.6, 344.1], \"yaxis\": \"y5\"}, {\"hoverlabel\": {\"namelength\": 0}, \"hovertemplate\": \"Company Name=INFO EDGE (INDIA) LTD<br>Date=%{x}<br>Expenses=%{y}\", \"legendgroup\": \"Company Name=INFO EDGE (INDIA) LTD\", \"line\": {\"color\": \"#EF553B\"}, \"mode\": \"lines\", \"name\": \"Company Name=INFO EDGE (INDIA) LTD\", \"orientation\": \"v\", \"showlegend\": true, \"stackgroup\": \"1\", \"type\": \"scatter\", \"x\": [\"2012-03-31T00:00:00\", \"2013-03-31T00:00:00\", \"2014-03-31T00:00:00\", \"2015-03-31T00:00:00\", \"2016-03-31T00:00:00\", \"2017-03-31T00:00:00\", \"2018-03-31T00:00:00\", \"2019-03-31T00:00:00\", \"2020-03-31T00:00:00\", \"2021-03-31T00:00:00\"], \"xaxis\": \"x6\", \"y\": [274.45, 362.95, 473.18, 716.85, 656.5, 886.65, 769.42, 1142.19, 1662.45, 1058.59], \"yaxis\": \"y6\"}, {\"hoverlabel\": {\"namelength\": 0}, \"hovertemplate\": \"Company Name=NURECA LTD<br>Date=%{x}<br>Expenses=%{y}\", \"legendgroup\": \"Company Name=NURECA LTD\", \"line\": {\"color\": \"#00cc96\"}, \"mode\": \"lines\", \"name\": \"Company Name=NURECA LTD\", \"orientation\": \"v\", \"showlegend\": true, \"stackgroup\": \"1\", \"type\": \"scatter\", \"x\": [\"2019-03-31T00:00:00\", \"2020-03-31T00:00:00\", \"2021-03-31T00:00:00\"], \"xaxis\": \"x3\", \"y\": [52.85, 89.74, 151.91], \"yaxis\": \"y3\"}, {\"hoverlabel\": {\"namelength\": 0}, \"hovertemplate\": \"Company Name=JUST DIAL LTD<br>Date=%{x}<br>Expenses=%{y}\", \"legendgroup\": \"Company Name=JUST DIAL LTD\", \"line\": {\"color\": \"#ab63fa\"}, \"mode\": \"lines\", \"name\": \"Company Name=JUST DIAL LTD\", \"orientation\": \"v\", \"showlegend\": true, \"stackgroup\": \"1\", \"type\": \"scatter\", \"x\": [\"2011-03-31T00:00:00\", \"2012-03-31T00:00:00\", \"2014-03-31T00:00:00\", \"2015-03-31T00:00:00\", \"2016-03-31T00:00:00\", \"2017-03-31T00:00:00\", \"2018-03-31T00:00:00\", \"2019-03-31T00:00:00\", \"2020-03-31T00:00:00\", \"2021-03-31T00:00:00\"], \"xaxis\": \"x4\", \"y\": [138.55, 194.78, 319.09, 424.14, 523.43, 609.0, 617.31, 662.52, 680.19, 520.33], \"yaxis\": \"y4\"}, {\"hoverlabel\": {\"namelength\": 0}, \"hovertemplate\": \"Company Name=OLYMPIA INDUSTRIES LTD<br>Date=%{x}<br>Expenses=%{y}\", \"legendgroup\": \"Company Name=OLYMPIA INDUSTRIES LTD\", \"line\": {\"color\": \"#FFA15A\"}, \"mode\": \"lines\", \"name\": \"Company Name=OLYMPIA INDUSTRIES LTD\", \"orientation\": \"v\", \"showlegend\": true, \"stackgroup\": \"1\", \"type\": \"scatter\", \"x\": [\"2011-03-31T00:00:00\", \"2012-03-31T00:00:00\", \"2013-03-31T00:00:00\", \"2014-03-31T00:00:00\", \"2015-03-31T00:00:00\", \"2016-03-31T00:00:00\", \"2017-03-31T00:00:00\", \"2018-03-31T00:00:00\", \"2019-03-31T00:00:00\", \"2020-03-31T00:00:00\"], \"xaxis\": \"x\", \"y\": [0.79, 0.3, 0.34, 6.23, 117.12, 181.79, 236.88, 173.98, 127.29, 134.12], \"yaxis\": \"y\"}],\n",
              "                        {\"annotations\": [{\"font\": {}, \"showarrow\": false, \"text\": \"Company Name=OLYMPIA INDUSTRIES LTD\", \"x\": 0.245, \"xanchor\": \"center\", \"xref\": \"paper\", \"y\": 0.2866666666666666, \"yanchor\": \"bottom\", \"yref\": \"paper\"}, {\"font\": {}, \"showarrow\": false, \"text\": \"Company Name=NURECA LTD\", \"x\": 0.245, \"xanchor\": \"center\", \"xref\": \"paper\", \"y\": 0.6433333333333333, \"yanchor\": \"bottom\", \"yref\": \"paper\"}, {\"font\": {}, \"showarrow\": false, \"text\": \"Company Name=JUST DIAL LTD\", \"x\": 0.755, \"xanchor\": \"center\", \"xref\": \"paper\", \"y\": 0.6433333333333333, \"yanchor\": \"bottom\", \"yref\": \"paper\"}, {\"font\": {}, \"showarrow\": false, \"text\": \"Company Name=INDIAMART INTERMESH LTD\", \"x\": 0.245, \"xanchor\": \"center\", \"xref\": \"paper\", \"y\": 0.9999999999999999, \"yanchor\": \"bottom\", \"yref\": \"paper\"}, {\"font\": {}, \"showarrow\": false, \"text\": \"Company Name=INFO EDGE (INDIA) LTD\", \"x\": 0.755, \"xanchor\": \"center\", \"xref\": \"paper\", \"y\": 0.9999999999999999, \"yanchor\": \"bottom\", \"yref\": \"paper\"}], \"height\": 1000, \"legend\": {\"tracegroupgap\": 0}, \"margin\": {\"t\": 60}, \"template\": {\"data\": {\"bar\": [{\"error_x\": {\"color\": \"#2a3f5f\"}, \"error_y\": {\"color\": \"#2a3f5f\"}, \"marker\": {\"line\": {\"color\": \"#E5ECF6\", \"width\": 0.5}}, \"type\": \"bar\"}], \"barpolar\": [{\"marker\": {\"line\": {\"color\": \"#E5ECF6\", \"width\": 0.5}}, \"type\": \"barpolar\"}], \"carpet\": [{\"aaxis\": {\"endlinecolor\": \"#2a3f5f\", \"gridcolor\": \"white\", \"linecolor\": \"white\", \"minorgridcolor\": \"white\", \"startlinecolor\": \"#2a3f5f\"}, \"baxis\": {\"endlinecolor\": \"#2a3f5f\", \"gridcolor\": \"white\", \"linecolor\": \"white\", \"minorgridcolor\": \"white\", \"startlinecolor\": \"#2a3f5f\"}, \"type\": \"carpet\"}], \"choropleth\": [{\"colorbar\": {\"outlinewidth\": 0, \"ticks\": \"\"}, \"type\": \"choropleth\"}], \"contour\": [{\"colorbar\": {\"outlinewidth\": 0, \"ticks\": \"\"}, \"colorscale\": [[0.0, \"#0d0887\"], [0.1111111111111111, \"#46039f\"], [0.2222222222222222, \"#7201a8\"], [0.3333333333333333, \"#9c179e\"], [0.4444444444444444, \"#bd3786\"], [0.5555555555555556, \"#d8576b\"], [0.6666666666666666, \"#ed7953\"], [0.7777777777777778, \"#fb9f3a\"], [0.8888888888888888, \"#fdca26\"], [1.0, \"#f0f921\"]], \"type\": \"contour\"}], \"contourcarpet\": [{\"colorbar\": {\"outlinewidth\": 0, \"ticks\": \"\"}, \"type\": \"contourcarpet\"}], \"heatmap\": [{\"colorbar\": {\"outlinewidth\": 0, \"ticks\": \"\"}, \"colorscale\": [[0.0, \"#0d0887\"], [0.1111111111111111, \"#46039f\"], [0.2222222222222222, \"#7201a8\"], [0.3333333333333333, \"#9c179e\"], [0.4444444444444444, \"#bd3786\"], [0.5555555555555556, \"#d8576b\"], [0.6666666666666666, \"#ed7953\"], [0.7777777777777778, \"#fb9f3a\"], [0.8888888888888888, \"#fdca26\"], [1.0, \"#f0f921\"]], \"type\": \"heatmap\"}], \"heatmapgl\": [{\"colorbar\": {\"outlinewidth\": 0, \"ticks\": \"\"}, \"colorscale\": [[0.0, \"#0d0887\"], [0.1111111111111111, \"#46039f\"], [0.2222222222222222, \"#7201a8\"], [0.3333333333333333, \"#9c179e\"], [0.4444444444444444, \"#bd3786\"], [0.5555555555555556, \"#d8576b\"], [0.6666666666666666, \"#ed7953\"], [0.7777777777777778, \"#fb9f3a\"], [0.8888888888888888, \"#fdca26\"], [1.0, \"#f0f921\"]], \"type\": \"heatmapgl\"}], \"histogram\": [{\"marker\": {\"colorbar\": {\"outlinewidth\": 0, \"ticks\": \"\"}}, \"type\": \"histogram\"}], \"histogram2d\": [{\"colorbar\": {\"outlinewidth\": 0, \"ticks\": \"\"}, \"colorscale\": [[0.0, \"#0d0887\"], [0.1111111111111111, \"#46039f\"], [0.2222222222222222, \"#7201a8\"], [0.3333333333333333, \"#9c179e\"], [0.4444444444444444, \"#bd3786\"], [0.5555555555555556, \"#d8576b\"], [0.6666666666666666, \"#ed7953\"], [0.7777777777777778, \"#fb9f3a\"], [0.8888888888888888, \"#fdca26\"], [1.0, \"#f0f921\"]], \"type\": \"histogram2d\"}], \"histogram2dcontour\": [{\"colorbar\": {\"outlinewidth\": 0, \"ticks\": \"\"}, \"colorscale\": [[0.0, \"#0d0887\"], [0.1111111111111111, \"#46039f\"], [0.2222222222222222, \"#7201a8\"], [0.3333333333333333, \"#9c179e\"], [0.4444444444444444, \"#bd3786\"], [0.5555555555555556, \"#d8576b\"], [0.6666666666666666, \"#ed7953\"], [0.7777777777777778, \"#fb9f3a\"], [0.8888888888888888, \"#fdca26\"], [1.0, \"#f0f921\"]], \"type\": \"histogram2dcontour\"}], \"mesh3d\": [{\"colorbar\": {\"outlinewidth\": 0, \"ticks\": \"\"}, \"type\": \"mesh3d\"}], \"parcoords\": [{\"line\": {\"colorbar\": {\"outlinewidth\": 0, \"ticks\": \"\"}}, \"type\": \"parcoords\"}], \"pie\": [{\"automargin\": true, \"type\": \"pie\"}], \"scatter\": [{\"marker\": {\"colorbar\": {\"outlinewidth\": 0, \"ticks\": \"\"}}, \"type\": \"scatter\"}], \"scatter3d\": [{\"line\": {\"colorbar\": {\"outlinewidth\": 0, \"ticks\": \"\"}}, \"marker\": {\"colorbar\": {\"outlinewidth\": 0, \"ticks\": \"\"}}, \"type\": \"scatter3d\"}], \"scattercarpet\": [{\"marker\": {\"colorbar\": {\"outlinewidth\": 0, \"ticks\": \"\"}}, \"type\": \"scattercarpet\"}], \"scattergeo\": [{\"marker\": {\"colorbar\": {\"outlinewidth\": 0, \"ticks\": \"\"}}, \"type\": \"scattergeo\"}], \"scattergl\": [{\"marker\": {\"colorbar\": {\"outlinewidth\": 0, \"ticks\": \"\"}}, \"type\": \"scattergl\"}], \"scattermapbox\": [{\"marker\": {\"colorbar\": {\"outlinewidth\": 0, \"ticks\": \"\"}}, \"type\": \"scattermapbox\"}], \"scatterpolar\": [{\"marker\": {\"colorbar\": {\"outlinewidth\": 0, \"ticks\": \"\"}}, \"type\": \"scatterpolar\"}], \"scatterpolargl\": [{\"marker\": {\"colorbar\": {\"outlinewidth\": 0, \"ticks\": \"\"}}, \"type\": \"scatterpolargl\"}], \"scatterternary\": [{\"marker\": {\"colorbar\": {\"outlinewidth\": 0, \"ticks\": \"\"}}, \"type\": \"scatterternary\"}], \"surface\": [{\"colorbar\": {\"outlinewidth\": 0, \"ticks\": \"\"}, \"colorscale\": [[0.0, \"#0d0887\"], [0.1111111111111111, \"#46039f\"], [0.2222222222222222, \"#7201a8\"], [0.3333333333333333, \"#9c179e\"], [0.4444444444444444, \"#bd3786\"], [0.5555555555555556, \"#d8576b\"], [0.6666666666666666, \"#ed7953\"], [0.7777777777777778, \"#fb9f3a\"], [0.8888888888888888, \"#fdca26\"], [1.0, \"#f0f921\"]], \"type\": \"surface\"}], \"table\": [{\"cells\": {\"fill\": {\"color\": \"#EBF0F8\"}, \"line\": {\"color\": \"white\"}}, \"header\": {\"fill\": {\"color\": \"#C8D4E3\"}, \"line\": {\"color\": \"white\"}}, \"type\": \"table\"}]}, \"layout\": {\"annotationdefaults\": {\"arrowcolor\": \"#2a3f5f\", \"arrowhead\": 0, \"arrowwidth\": 1}, \"coloraxis\": {\"colorbar\": {\"outlinewidth\": 0, \"ticks\": \"\"}}, \"colorscale\": {\"diverging\": [[0, \"#8e0152\"], [0.1, \"#c51b7d\"], [0.2, \"#de77ae\"], [0.3, \"#f1b6da\"], [0.4, \"#fde0ef\"], [0.5, \"#f7f7f7\"], [0.6, \"#e6f5d0\"], [0.7, \"#b8e186\"], [0.8, \"#7fbc41\"], [0.9, \"#4d9221\"], [1, \"#276419\"]], \"sequential\": [[0.0, \"#0d0887\"], [0.1111111111111111, \"#46039f\"], [0.2222222222222222, \"#7201a8\"], [0.3333333333333333, \"#9c179e\"], [0.4444444444444444, \"#bd3786\"], [0.5555555555555556, \"#d8576b\"], [0.6666666666666666, \"#ed7953\"], [0.7777777777777778, \"#fb9f3a\"], [0.8888888888888888, \"#fdca26\"], [1.0, \"#f0f921\"]], \"sequentialminus\": [[0.0, \"#0d0887\"], [0.1111111111111111, \"#46039f\"], [0.2222222222222222, \"#7201a8\"], [0.3333333333333333, \"#9c179e\"], [0.4444444444444444, \"#bd3786\"], [0.5555555555555556, \"#d8576b\"], [0.6666666666666666, \"#ed7953\"], [0.7777777777777778, \"#fb9f3a\"], [0.8888888888888888, \"#fdca26\"], [1.0, \"#f0f921\"]]}, \"colorway\": [\"#636efa\", \"#EF553B\", \"#00cc96\", \"#ab63fa\", \"#FFA15A\", \"#19d3f3\", \"#FF6692\", \"#B6E880\", \"#FF97FF\", \"#FECB52\"], \"font\": {\"color\": \"#2a3f5f\"}, \"geo\": {\"bgcolor\": \"white\", \"lakecolor\": \"white\", \"landcolor\": \"#E5ECF6\", \"showlakes\": true, \"showland\": true, \"subunitcolor\": \"white\"}, \"hoverlabel\": {\"align\": \"left\"}, \"hovermode\": \"closest\", \"mapbox\": {\"style\": \"light\"}, \"paper_bgcolor\": \"white\", \"plot_bgcolor\": \"#E5ECF6\", \"polar\": {\"angularaxis\": {\"gridcolor\": \"white\", \"linecolor\": \"white\", \"ticks\": \"\"}, \"bgcolor\": \"#E5ECF6\", \"radialaxis\": {\"gridcolor\": \"white\", \"linecolor\": \"white\", \"ticks\": \"\"}}, \"scene\": {\"xaxis\": {\"backgroundcolor\": \"#E5ECF6\", \"gridcolor\": \"white\", \"gridwidth\": 2, \"linecolor\": \"white\", \"showbackground\": true, \"ticks\": \"\", \"zerolinecolor\": \"white\"}, \"yaxis\": {\"backgroundcolor\": \"#E5ECF6\", \"gridcolor\": \"white\", \"gridwidth\": 2, \"linecolor\": \"white\", \"showbackground\": true, \"ticks\": \"\", \"zerolinecolor\": \"white\"}, \"zaxis\": {\"backgroundcolor\": \"#E5ECF6\", \"gridcolor\": \"white\", \"gridwidth\": 2, \"linecolor\": \"white\", \"showbackground\": true, \"ticks\": \"\", \"zerolinecolor\": \"white\"}}, \"shapedefaults\": {\"line\": {\"color\": \"#2a3f5f\"}}, \"ternary\": {\"aaxis\": {\"gridcolor\": \"white\", \"linecolor\": \"white\", \"ticks\": \"\"}, \"baxis\": {\"gridcolor\": \"white\", \"linecolor\": \"white\", \"ticks\": \"\"}, \"bgcolor\": \"#E5ECF6\", \"caxis\": {\"gridcolor\": \"white\", \"linecolor\": \"white\", \"ticks\": \"\"}}, \"title\": {\"x\": 0.05}, \"xaxis\": {\"automargin\": true, \"gridcolor\": \"white\", \"linecolor\": \"white\", \"ticks\": \"\", \"title\": {\"standoff\": 15}, \"zerolinecolor\": \"white\", \"zerolinewidth\": 2}, \"yaxis\": {\"automargin\": true, \"gridcolor\": \"white\", \"linecolor\": \"white\", \"ticks\": \"\", \"title\": {\"standoff\": 15}, \"zerolinecolor\": \"white\", \"zerolinewidth\": 2}}}, \"xaxis\": {\"anchor\": \"y\", \"domain\": [0.0, 0.49], \"title\": {\"text\": \"Date\"}}, \"xaxis2\": {\"anchor\": \"y2\", \"domain\": [0.51, 1.0], \"matches\": \"x\", \"title\": {\"text\": \"Date\"}}, \"xaxis3\": {\"anchor\": \"y3\", \"domain\": [0.0, 0.49], \"matches\": \"x\", \"showticklabels\": false}, \"xaxis4\": {\"anchor\": \"y4\", \"domain\": [0.51, 1.0], \"matches\": \"x\", \"showticklabels\": false}, \"xaxis5\": {\"anchor\": \"y5\", \"domain\": [0.0, 0.49], \"matches\": \"x\", \"showticklabels\": false}, \"xaxis6\": {\"anchor\": \"y6\", \"domain\": [0.51, 1.0], \"matches\": \"x\", \"showticklabels\": false}, \"yaxis\": {\"anchor\": \"x\", \"domain\": [0.0, 0.2866666666666666], \"title\": {\"text\": \"Expenses\"}}, \"yaxis2\": {\"anchor\": \"x2\", \"domain\": [0.0, 0.2866666666666666], \"matches\": \"y\", \"showticklabels\": false}, \"yaxis3\": {\"anchor\": \"x3\", \"domain\": [0.35666666666666663, 0.6433333333333333], \"matches\": \"y\", \"title\": {\"text\": \"Expenses\"}}, \"yaxis4\": {\"anchor\": \"x4\", \"domain\": [0.35666666666666663, 0.6433333333333333], \"matches\": \"y\", \"showticklabels\": false}, \"yaxis5\": {\"anchor\": \"x5\", \"domain\": [0.7133333333333333, 0.9999999999999999], \"matches\": \"y\", \"title\": {\"text\": \"Expenses\"}}, \"yaxis6\": {\"anchor\": \"x6\", \"domain\": [0.7133333333333333, 0.9999999999999999], \"matches\": \"y\", \"showticklabels\": false}},\n",
              "                        {\"responsive\": true}\n",
              "                    ).then(function(){\n",
              "                            \n",
              "var gd = document.getElementById('7f78acfb-0cfb-49b7-bc3a-e2d7239902f0');\n",
              "var x = new MutationObserver(function (mutations, observer) {{\n",
              "        var display = window.getComputedStyle(gd).display;\n",
              "        if (!display || display === 'none') {{\n",
              "            console.log([gd, 'removed!']);\n",
              "            Plotly.purge(gd);\n",
              "            observer.disconnect();\n",
              "        }}\n",
              "}});\n",
              "\n",
              "// Listen for the removal of the full notebook cells\n",
              "var notebookContainer = gd.closest('#notebook-container');\n",
              "if (notebookContainer) {{\n",
              "    x.observe(notebookContainer, {childList: true});\n",
              "}}\n",
              "\n",
              "// Listen for the clearing of the current output cell\n",
              "var outputEl = gd.closest('.output');\n",
              "if (outputEl) {{\n",
              "    x.observe(outputEl, {childList: true});\n",
              "}}\n",
              "\n",
              "                        })\n",
              "                };\n",
              "                \n",
              "            </script>\n",
              "        </div>\n",
              "</body>\n",
              "</html>"
            ]
          },
          "metadata": {
            "tags": []
          }
        }
      ]
    },
    {
      "cell_type": "code",
      "metadata": {
        "colab": {
          "base_uri": "https://localhost:8080/",
          "height": 1000
        },
        "id": "t0MpBm5I4F1i",
        "outputId": "d6d10ec9-8314-4ac2-975d-8c8b6995d7ad"
      },
      "source": [
        "cols = dfprofitloss[[\"Date\",\"Sales\",'Expenses','Operating Profit','Net profit','Company Name']]\n",
        "newdfPL=cols.copy()\n",
        "newdfPL.sort_values('Date', ascending=True, ignore_index=True, inplace=True)\n",
        "newdfPL"
      ],
      "execution_count": null,
      "outputs": [
        {
          "output_type": "execute_result",
          "data": {
            "text/html": [
              "<div>\n",
              "<style scoped>\n",
              "    .dataframe tbody tr th:only-of-type {\n",
              "        vertical-align: middle;\n",
              "    }\n",
              "\n",
              "    .dataframe tbody tr th {\n",
              "        vertical-align: top;\n",
              "    }\n",
              "\n",
              "    .dataframe thead th {\n",
              "        text-align: right;\n",
              "    }\n",
              "</style>\n",
              "<table border=\"1\" class=\"dataframe\">\n",
              "  <thead>\n",
              "    <tr style=\"text-align: right;\">\n",
              "      <th></th>\n",
              "      <th>Date</th>\n",
              "      <th>Sales</th>\n",
              "      <th>Expenses</th>\n",
              "      <th>Operating Profit</th>\n",
              "      <th>Net profit</th>\n",
              "      <th>Company Name</th>\n",
              "    </tr>\n",
              "  </thead>\n",
              "  <tbody>\n",
              "    <tr>\n",
              "      <th>0</th>\n",
              "      <td>2011-03-31</td>\n",
              "      <td>1.02</td>\n",
              "      <td>0.79</td>\n",
              "      <td>0.23</td>\n",
              "      <td>0.00</td>\n",
              "      <td>OLYMPIA INDUSTRIES LTD</td>\n",
              "    </tr>\n",
              "    <tr>\n",
              "      <th>1</th>\n",
              "      <td>2011-03-31</td>\n",
              "      <td>179.60</td>\n",
              "      <td>138.55</td>\n",
              "      <td>41.05</td>\n",
              "      <td>28.82</td>\n",
              "      <td>JUST DIAL LTD</td>\n",
              "    </tr>\n",
              "    <tr>\n",
              "      <th>2</th>\n",
              "      <td>2012-03-31</td>\n",
              "      <td>259.40</td>\n",
              "      <td>194.78</td>\n",
              "      <td>64.62</td>\n",
              "      <td>52.28</td>\n",
              "      <td>JUST DIAL LTD</td>\n",
              "    </tr>\n",
              "    <tr>\n",
              "      <th>3</th>\n",
              "      <td>2012-03-31</td>\n",
              "      <td>391.88</td>\n",
              "      <td>274.45</td>\n",
              "      <td>117.43</td>\n",
              "      <td>103.33</td>\n",
              "      <td>INFO EDGE (INDIA) LTD</td>\n",
              "    </tr>\n",
              "    <tr>\n",
              "      <th>4</th>\n",
              "      <td>2012-03-31</td>\n",
              "      <td>0.00</td>\n",
              "      <td>0.30</td>\n",
              "      <td>-0.30</td>\n",
              "      <td>-0.43</td>\n",
              "      <td>OLYMPIA INDUSTRIES LTD</td>\n",
              "    </tr>\n",
              "    <tr>\n",
              "      <th>5</th>\n",
              "      <td>2013-03-31</td>\n",
              "      <td>0.09</td>\n",
              "      <td>0.34</td>\n",
              "      <td>-0.25</td>\n",
              "      <td>-0.28</td>\n",
              "      <td>OLYMPIA INDUSTRIES LTD</td>\n",
              "    </tr>\n",
              "    <tr>\n",
              "      <th>6</th>\n",
              "      <td>2013-03-31</td>\n",
              "      <td>472.32</td>\n",
              "      <td>362.95</td>\n",
              "      <td>109.37</td>\n",
              "      <td>91.59</td>\n",
              "      <td>INFO EDGE (INDIA) LTD</td>\n",
              "    </tr>\n",
              "    <tr>\n",
              "      <th>7</th>\n",
              "      <td>2014-03-31</td>\n",
              "      <td>461.29</td>\n",
              "      <td>319.09</td>\n",
              "      <td>142.20</td>\n",
              "      <td>120.61</td>\n",
              "      <td>JUST DIAL LTD</td>\n",
              "    </tr>\n",
              "    <tr>\n",
              "      <th>8</th>\n",
              "      <td>2014-03-31</td>\n",
              "      <td>6.59</td>\n",
              "      <td>6.23</td>\n",
              "      <td>0.36</td>\n",
              "      <td>0.36</td>\n",
              "      <td>OLYMPIA INDUSTRIES LTD</td>\n",
              "    </tr>\n",
              "    <tr>\n",
              "      <th>9</th>\n",
              "      <td>2014-03-31</td>\n",
              "      <td>567.22</td>\n",
              "      <td>473.18</td>\n",
              "      <td>94.04</td>\n",
              "      <td>89.67</td>\n",
              "      <td>INFO EDGE (INDIA) LTD</td>\n",
              "    </tr>\n",
              "    <tr>\n",
              "      <th>10</th>\n",
              "      <td>2015-03-31</td>\n",
              "      <td>589.80</td>\n",
              "      <td>424.14</td>\n",
              "      <td>165.66</td>\n",
              "      <td>138.84</td>\n",
              "      <td>JUST DIAL LTD</td>\n",
              "    </tr>\n",
              "    <tr>\n",
              "      <th>11</th>\n",
              "      <td>2015-03-31</td>\n",
              "      <td>122.54</td>\n",
              "      <td>117.12</td>\n",
              "      <td>5.42</td>\n",
              "      <td>4.57</td>\n",
              "      <td>OLYMPIA INDUSTRIES LTD</td>\n",
              "    </tr>\n",
              "    <tr>\n",
              "      <th>12</th>\n",
              "      <td>2015-03-31</td>\n",
              "      <td>176.07</td>\n",
              "      <td>216.41</td>\n",
              "      <td>-40.34</td>\n",
              "      <td>-31.89</td>\n",
              "      <td>INDIAMART INTERMESH LTD</td>\n",
              "    </tr>\n",
              "    <tr>\n",
              "      <th>13</th>\n",
              "      <td>2015-03-31</td>\n",
              "      <td>732.49</td>\n",
              "      <td>716.85</td>\n",
              "      <td>15.64</td>\n",
              "      <td>24.06</td>\n",
              "      <td>INFO EDGE (INDIA) LTD</td>\n",
              "    </tr>\n",
              "    <tr>\n",
              "      <th>14</th>\n",
              "      <td>2016-03-31</td>\n",
              "      <td>187.15</td>\n",
              "      <td>181.79</td>\n",
              "      <td>5.36</td>\n",
              "      <td>2.58</td>\n",
              "      <td>OLYMPIA INDUSTRIES LTD</td>\n",
              "    </tr>\n",
              "    <tr>\n",
              "      <th>15</th>\n",
              "      <td>2016-03-31</td>\n",
              "      <td>254.29</td>\n",
              "      <td>369.78</td>\n",
              "      <td>-115.49</td>\n",
              "      <td>-115.91</td>\n",
              "      <td>INDIAMART INTERMESH LTD</td>\n",
              "    </tr>\n",
              "    <tr>\n",
              "      <th>16</th>\n",
              "      <td>2016-03-31</td>\n",
              "      <td>747.51</td>\n",
              "      <td>656.50</td>\n",
              "      <td>91.01</td>\n",
              "      <td>135.58</td>\n",
              "      <td>INFO EDGE (INDIA) LTD</td>\n",
              "    </tr>\n",
              "    <tr>\n",
              "      <th>17</th>\n",
              "      <td>2016-03-31</td>\n",
              "      <td>667.66</td>\n",
              "      <td>523.43</td>\n",
              "      <td>144.23</td>\n",
              "      <td>142.77</td>\n",
              "      <td>JUST DIAL LTD</td>\n",
              "    </tr>\n",
              "    <tr>\n",
              "      <th>18</th>\n",
              "      <td>2017-03-31</td>\n",
              "      <td>244.92</td>\n",
              "      <td>236.88</td>\n",
              "      <td>8.04</td>\n",
              "      <td>4.20</td>\n",
              "      <td>OLYMPIA INDUSTRIES LTD</td>\n",
              "    </tr>\n",
              "    <tr>\n",
              "      <th>19</th>\n",
              "      <td>2017-03-31</td>\n",
              "      <td>718.61</td>\n",
              "      <td>609.00</td>\n",
              "      <td>109.61</td>\n",
              "      <td>121.36</td>\n",
              "      <td>JUST DIAL LTD</td>\n",
              "    </tr>\n",
              "    <tr>\n",
              "      <th>20</th>\n",
              "      <td>2017-03-31</td>\n",
              "      <td>887.63</td>\n",
              "      <td>886.65</td>\n",
              "      <td>0.98</td>\n",
              "      <td>-23.66</td>\n",
              "      <td>INFO EDGE (INDIA) LTD</td>\n",
              "    </tr>\n",
              "    <tr>\n",
              "      <th>21</th>\n",
              "      <td>2017-03-31</td>\n",
              "      <td>317.76</td>\n",
              "      <td>391.44</td>\n",
              "      <td>-73.68</td>\n",
              "      <td>-64.35</td>\n",
              "      <td>INDIAMART INTERMESH LTD</td>\n",
              "    </tr>\n",
              "    <tr>\n",
              "      <th>22</th>\n",
              "      <td>2018-03-31</td>\n",
              "      <td>781.77</td>\n",
              "      <td>617.31</td>\n",
              "      <td>164.46</td>\n",
              "      <td>143.20</td>\n",
              "      <td>JUST DIAL LTD</td>\n",
              "    </tr>\n",
              "    <tr>\n",
              "      <th>23</th>\n",
              "      <td>2018-03-31</td>\n",
              "      <td>988.24</td>\n",
              "      <td>769.42</td>\n",
              "      <td>218.82</td>\n",
              "      <td>511.98</td>\n",
              "      <td>INFO EDGE (INDIA) LTD</td>\n",
              "    </tr>\n",
              "    <tr>\n",
              "      <th>24</th>\n",
              "      <td>2018-03-31</td>\n",
              "      <td>177.53</td>\n",
              "      <td>173.98</td>\n",
              "      <td>3.55</td>\n",
              "      <td>1.87</td>\n",
              "      <td>OLYMPIA INDUSTRIES LTD</td>\n",
              "    </tr>\n",
              "    <tr>\n",
              "      <th>25</th>\n",
              "      <td>2018-03-31</td>\n",
              "      <td>410.51</td>\n",
              "      <td>486.74</td>\n",
              "      <td>-76.23</td>\n",
              "      <td>54.76</td>\n",
              "      <td>INDIAMART INTERMESH LTD</td>\n",
              "    </tr>\n",
              "    <tr>\n",
              "      <th>26</th>\n",
              "      <td>2019-03-31</td>\n",
              "      <td>127.68</td>\n",
              "      <td>127.29</td>\n",
              "      <td>0.39</td>\n",
              "      <td>1.40</td>\n",
              "      <td>OLYMPIA INDUSTRIES LTD</td>\n",
              "    </tr>\n",
              "    <tr>\n",
              "      <th>27</th>\n",
              "      <td>2019-03-31</td>\n",
              "      <td>61.90</td>\n",
              "      <td>52.85</td>\n",
              "      <td>9.05</td>\n",
              "      <td>6.23</td>\n",
              "      <td>NURECA LTD</td>\n",
              "    </tr>\n",
              "    <tr>\n",
              "      <th>28</th>\n",
              "      <td>2019-03-31</td>\n",
              "      <td>891.50</td>\n",
              "      <td>662.52</td>\n",
              "      <td>228.98</td>\n",
              "      <td>206.85</td>\n",
              "      <td>JUST DIAL LTD</td>\n",
              "    </tr>\n",
              "    <tr>\n",
              "      <th>29</th>\n",
              "      <td>2019-03-31</td>\n",
              "      <td>1150.93</td>\n",
              "      <td>1142.19</td>\n",
              "      <td>8.74</td>\n",
              "      <td>603.65</td>\n",
              "      <td>INFO EDGE (INDIA) LTD</td>\n",
              "    </tr>\n",
              "    <tr>\n",
              "      <th>30</th>\n",
              "      <td>2019-03-31</td>\n",
              "      <td>507.42</td>\n",
              "      <td>490.34</td>\n",
              "      <td>17.08</td>\n",
              "      <td>20.04</td>\n",
              "      <td>INDIAMART INTERMESH LTD</td>\n",
              "    </tr>\n",
              "    <tr>\n",
              "      <th>31</th>\n",
              "      <td>2020-03-31</td>\n",
              "      <td>132.92</td>\n",
              "      <td>134.12</td>\n",
              "      <td>-1.20</td>\n",
              "      <td>0.34</td>\n",
              "      <td>OLYMPIA INDUSTRIES LTD</td>\n",
              "    </tr>\n",
              "    <tr>\n",
              "      <th>32</th>\n",
              "      <td>2020-03-31</td>\n",
              "      <td>953.11</td>\n",
              "      <td>680.19</td>\n",
              "      <td>272.92</td>\n",
              "      <td>272.31</td>\n",
              "      <td>JUST DIAL LTD</td>\n",
              "    </tr>\n",
              "    <tr>\n",
              "      <th>33</th>\n",
              "      <td>2020-03-31</td>\n",
              "      <td>99.43</td>\n",
              "      <td>89.74</td>\n",
              "      <td>9.69</td>\n",
              "      <td>6.40</td>\n",
              "      <td>NURECA LTD</td>\n",
              "    </tr>\n",
              "    <tr>\n",
              "      <th>34</th>\n",
              "      <td>2020-03-31</td>\n",
              "      <td>1311.93</td>\n",
              "      <td>1662.45</td>\n",
              "      <td>-350.52</td>\n",
              "      <td>-237.62</td>\n",
              "      <td>INFO EDGE (INDIA) LTD</td>\n",
              "    </tr>\n",
              "    <tr>\n",
              "      <th>35</th>\n",
              "      <td>2020-03-31</td>\n",
              "      <td>638.85</td>\n",
              "      <td>471.60</td>\n",
              "      <td>167.25</td>\n",
              "      <td>147.38</td>\n",
              "      <td>INDIAMART INTERMESH LTD</td>\n",
              "    </tr>\n",
              "    <tr>\n",
              "      <th>36</th>\n",
              "      <td>2021-03-31</td>\n",
              "      <td>1120.12</td>\n",
              "      <td>1058.59</td>\n",
              "      <td>61.53</td>\n",
              "      <td>1407.08</td>\n",
              "      <td>INFO EDGE (INDIA) LTD</td>\n",
              "    </tr>\n",
              "    <tr>\n",
              "      <th>37</th>\n",
              "      <td>2021-03-31</td>\n",
              "      <td>669.60</td>\n",
              "      <td>344.10</td>\n",
              "      <td>325.50</td>\n",
              "      <td>279.80</td>\n",
              "      <td>INDIAMART INTERMESH LTD</td>\n",
              "    </tr>\n",
              "    <tr>\n",
              "      <th>38</th>\n",
              "      <td>2021-03-31</td>\n",
              "      <td>675.18</td>\n",
              "      <td>520.33</td>\n",
              "      <td>154.85</td>\n",
              "      <td>214.16</td>\n",
              "      <td>JUST DIAL LTD</td>\n",
              "    </tr>\n",
              "    <tr>\n",
              "      <th>39</th>\n",
              "      <td>2021-03-31</td>\n",
              "      <td>213.45</td>\n",
              "      <td>151.91</td>\n",
              "      <td>61.54</td>\n",
              "      <td>46.37</td>\n",
              "      <td>NURECA LTD</td>\n",
              "    </tr>\n",
              "  </tbody>\n",
              "</table>\n",
              "</div>"
            ],
            "text/plain": [
              "         Date    Sales  ...  Net profit             Company Name\n",
              "0  2011-03-31     1.02  ...        0.00   OLYMPIA INDUSTRIES LTD\n",
              "1  2011-03-31   179.60  ...       28.82            JUST DIAL LTD\n",
              "2  2012-03-31   259.40  ...       52.28            JUST DIAL LTD\n",
              "3  2012-03-31   391.88  ...      103.33    INFO EDGE (INDIA) LTD\n",
              "4  2012-03-31     0.00  ...       -0.43   OLYMPIA INDUSTRIES LTD\n",
              "5  2013-03-31     0.09  ...       -0.28   OLYMPIA INDUSTRIES LTD\n",
              "6  2013-03-31   472.32  ...       91.59    INFO EDGE (INDIA) LTD\n",
              "7  2014-03-31   461.29  ...      120.61            JUST DIAL LTD\n",
              "8  2014-03-31     6.59  ...        0.36   OLYMPIA INDUSTRIES LTD\n",
              "9  2014-03-31   567.22  ...       89.67    INFO EDGE (INDIA) LTD\n",
              "10 2015-03-31   589.80  ...      138.84            JUST DIAL LTD\n",
              "11 2015-03-31   122.54  ...        4.57   OLYMPIA INDUSTRIES LTD\n",
              "12 2015-03-31   176.07  ...      -31.89  INDIAMART INTERMESH LTD\n",
              "13 2015-03-31   732.49  ...       24.06    INFO EDGE (INDIA) LTD\n",
              "14 2016-03-31   187.15  ...        2.58   OLYMPIA INDUSTRIES LTD\n",
              "15 2016-03-31   254.29  ...     -115.91  INDIAMART INTERMESH LTD\n",
              "16 2016-03-31   747.51  ...      135.58    INFO EDGE (INDIA) LTD\n",
              "17 2016-03-31   667.66  ...      142.77            JUST DIAL LTD\n",
              "18 2017-03-31   244.92  ...        4.20   OLYMPIA INDUSTRIES LTD\n",
              "19 2017-03-31   718.61  ...      121.36            JUST DIAL LTD\n",
              "20 2017-03-31   887.63  ...      -23.66    INFO EDGE (INDIA) LTD\n",
              "21 2017-03-31   317.76  ...      -64.35  INDIAMART INTERMESH LTD\n",
              "22 2018-03-31   781.77  ...      143.20            JUST DIAL LTD\n",
              "23 2018-03-31   988.24  ...      511.98    INFO EDGE (INDIA) LTD\n",
              "24 2018-03-31   177.53  ...        1.87   OLYMPIA INDUSTRIES LTD\n",
              "25 2018-03-31   410.51  ...       54.76  INDIAMART INTERMESH LTD\n",
              "26 2019-03-31   127.68  ...        1.40   OLYMPIA INDUSTRIES LTD\n",
              "27 2019-03-31    61.90  ...        6.23               NURECA LTD\n",
              "28 2019-03-31   891.50  ...      206.85            JUST DIAL LTD\n",
              "29 2019-03-31  1150.93  ...      603.65    INFO EDGE (INDIA) LTD\n",
              "30 2019-03-31   507.42  ...       20.04  INDIAMART INTERMESH LTD\n",
              "31 2020-03-31   132.92  ...        0.34   OLYMPIA INDUSTRIES LTD\n",
              "32 2020-03-31   953.11  ...      272.31            JUST DIAL LTD\n",
              "33 2020-03-31    99.43  ...        6.40               NURECA LTD\n",
              "34 2020-03-31  1311.93  ...     -237.62    INFO EDGE (INDIA) LTD\n",
              "35 2020-03-31   638.85  ...      147.38  INDIAMART INTERMESH LTD\n",
              "36 2021-03-31  1120.12  ...     1407.08    INFO EDGE (INDIA) LTD\n",
              "37 2021-03-31   669.60  ...      279.80  INDIAMART INTERMESH LTD\n",
              "38 2021-03-31   675.18  ...      214.16            JUST DIAL LTD\n",
              "39 2021-03-31   213.45  ...       46.37               NURECA LTD\n",
              "\n",
              "[40 rows x 6 columns]"
            ]
          },
          "metadata": {
            "tags": []
          },
          "execution_count": 189
        }
      ]
    },
    {
      "cell_type": "code",
      "metadata": {
        "id": "l3YDMAxVDUSq"
      },
      "source": [
        "#newdfPL['Date']=newdfPL['Date'].astype(str)"
      ],
      "execution_count": null,
      "outputs": []
    },
    {
      "cell_type": "code",
      "metadata": {
        "colab": {
          "base_uri": "https://localhost:8080/",
          "height": 617
        },
        "id": "lyR7bJce3J8D",
        "outputId": "35419597-e64e-4e1c-8346-56cc766e4eb1"
      },
      "source": [
        "newdfPL['year'] = newdfPL['Date'].dt.year\n",
        "fig = px.bar(newdfPL, x='Date', y='Expenses',hover_name='Expenses', animation_frame='Company Name',color='Company Name',width=1300,height=600)\n",
        "fig.layout.updatemenus[0].buttons[0].args[1][\"frame\"][\"duration\"] = 3000\n",
        "fig.update_layout(xaxis={'categoryorder':'total descending'},)\n",
        "fig.show()\n"
      ],
      "execution_count": null,
      "outputs": [
        {
          "output_type": "display_data",
          "data": {
            "text/html": [
              "<html>\n",
              "<head><meta charset=\"utf-8\" /></head>\n",
              "<body>\n",
              "    <div>\n",
              "            <script src=\"https://cdnjs.cloudflare.com/ajax/libs/mathjax/2.7.5/MathJax.js?config=TeX-AMS-MML_SVG\"></script><script type=\"text/javascript\">if (window.MathJax) {MathJax.Hub.Config({SVG: {font: \"STIX-Web\"}});}</script>\n",
              "                <script type=\"text/javascript\">window.PlotlyConfig = {MathJaxConfig: 'local'};</script>\n",
              "        <script src=\"https://cdn.plot.ly/plotly-latest.min.js\"></script>    \n",
              "            <div id=\"a145d644-27fb-46ca-9036-594e0d5cbd15\" class=\"plotly-graph-div\" style=\"height:600px; width:1300px;\"></div>\n",
              "            <script type=\"text/javascript\">\n",
              "                \n",
              "                    window.PLOTLYENV=window.PLOTLYENV || {};\n",
              "                    \n",
              "                if (document.getElementById(\"a145d644-27fb-46ca-9036-594e0d5cbd15\")) {\n",
              "                    Plotly.newPlot(\n",
              "                        'a145d644-27fb-46ca-9036-594e0d5cbd15',\n",
              "                        [{\"alignmentgroup\": \"True\", \"hoverlabel\": {\"namelength\": 0}, \"hovertemplate\": \"<b>%{hovertext}</b><br><br>Company Name=OLYMPIA INDUSTRIES LTD<br>Date=%{x}<br>Expenses=%{y}\", \"hovertext\": [0.79, 0.3, 0.34, 6.23, 117.12, 181.79, 236.88, 173.98, 127.29, 134.12], \"legendgroup\": \"Company Name=OLYMPIA INDUSTRIES LTD\", \"marker\": {\"color\": \"#636efa\"}, \"name\": \"Company Name=OLYMPIA INDUSTRIES LTD\", \"offsetgroup\": \"Company Name=OLYMPIA INDUSTRIES LTD\", \"orientation\": \"v\", \"showlegend\": true, \"textposition\": \"auto\", \"type\": \"bar\", \"x\": [\"2011-03-31T00:00:00\", \"2012-03-31T00:00:00\", \"2013-03-31T00:00:00\", \"2014-03-31T00:00:00\", \"2015-03-31T00:00:00\", \"2016-03-31T00:00:00\", \"2017-03-31T00:00:00\", \"2018-03-31T00:00:00\", \"2019-03-31T00:00:00\", \"2020-03-31T00:00:00\"], \"xaxis\": \"x\", \"y\": [0.79, 0.3, 0.34, 6.23, 117.12, 181.79, 236.88, 173.98, 127.29, 134.12], \"yaxis\": \"y\"}],\n",
              "                        {\"barmode\": \"relative\", \"height\": 600, \"legend\": {\"tracegroupgap\": 0}, \"margin\": {\"t\": 60}, \"sliders\": [{\"active\": 0, \"currentvalue\": {\"prefix\": \"Company Name=\"}, \"len\": 0.9, \"pad\": {\"b\": 10, \"t\": 60}, \"steps\": [{\"args\": [[\"OLYMPIA INDUSTRIES LTD\"], {\"frame\": {\"duration\": 0, \"redraw\": true}, \"fromcurrent\": true, \"mode\": \"immediate\", \"transition\": {\"duration\": 0, \"easing\": \"linear\"}}], \"label\": \"OLYMPIA INDUSTRIES LTD\", \"method\": \"animate\"}, {\"args\": [[\"JUST DIAL LTD\"], {\"frame\": {\"duration\": 0, \"redraw\": true}, \"fromcurrent\": true, \"mode\": \"immediate\", \"transition\": {\"duration\": 0, \"easing\": \"linear\"}}], \"label\": \"JUST DIAL LTD\", \"method\": \"animate\"}, {\"args\": [[\"INFO EDGE (INDIA) LTD\"], {\"frame\": {\"duration\": 0, \"redraw\": true}, \"fromcurrent\": true, \"mode\": \"immediate\", \"transition\": {\"duration\": 0, \"easing\": \"linear\"}}], \"label\": \"INFO EDGE (INDIA) LTD\", \"method\": \"animate\"}, {\"args\": [[\"INDIAMART INTERMESH LTD\"], {\"frame\": {\"duration\": 0, \"redraw\": true}, \"fromcurrent\": true, \"mode\": \"immediate\", \"transition\": {\"duration\": 0, \"easing\": \"linear\"}}], \"label\": \"INDIAMART INTERMESH LTD\", \"method\": \"animate\"}, {\"args\": [[\"NURECA LTD\"], {\"frame\": {\"duration\": 0, \"redraw\": true}, \"fromcurrent\": true, \"mode\": \"immediate\", \"transition\": {\"duration\": 0, \"easing\": \"linear\"}}], \"label\": \"NURECA LTD\", \"method\": \"animate\"}], \"x\": 0.1, \"xanchor\": \"left\", \"y\": 0, \"yanchor\": \"top\"}], \"template\": {\"data\": {\"bar\": [{\"error_x\": {\"color\": \"#2a3f5f\"}, \"error_y\": {\"color\": \"#2a3f5f\"}, \"marker\": {\"line\": {\"color\": \"#E5ECF6\", \"width\": 0.5}}, \"type\": \"bar\"}], \"barpolar\": [{\"marker\": {\"line\": {\"color\": \"#E5ECF6\", \"width\": 0.5}}, \"type\": \"barpolar\"}], \"carpet\": [{\"aaxis\": {\"endlinecolor\": \"#2a3f5f\", \"gridcolor\": \"white\", \"linecolor\": \"white\", \"minorgridcolor\": \"white\", \"startlinecolor\": \"#2a3f5f\"}, \"baxis\": {\"endlinecolor\": \"#2a3f5f\", \"gridcolor\": \"white\", \"linecolor\": \"white\", \"minorgridcolor\": \"white\", \"startlinecolor\": \"#2a3f5f\"}, \"type\": \"carpet\"}], \"choropleth\": [{\"colorbar\": {\"outlinewidth\": 0, \"ticks\": \"\"}, \"type\": \"choropleth\"}], \"contour\": [{\"colorbar\": {\"outlinewidth\": 0, \"ticks\": \"\"}, \"colorscale\": [[0.0, \"#0d0887\"], [0.1111111111111111, \"#46039f\"], [0.2222222222222222, \"#7201a8\"], [0.3333333333333333, \"#9c179e\"], [0.4444444444444444, \"#bd3786\"], [0.5555555555555556, \"#d8576b\"], [0.6666666666666666, \"#ed7953\"], [0.7777777777777778, \"#fb9f3a\"], [0.8888888888888888, \"#fdca26\"], [1.0, \"#f0f921\"]], \"type\": \"contour\"}], \"contourcarpet\": [{\"colorbar\": {\"outlinewidth\": 0, \"ticks\": \"\"}, \"type\": \"contourcarpet\"}], \"heatmap\": [{\"colorbar\": {\"outlinewidth\": 0, \"ticks\": \"\"}, \"colorscale\": [[0.0, \"#0d0887\"], [0.1111111111111111, \"#46039f\"], [0.2222222222222222, \"#7201a8\"], [0.3333333333333333, \"#9c179e\"], [0.4444444444444444, \"#bd3786\"], [0.5555555555555556, \"#d8576b\"], [0.6666666666666666, \"#ed7953\"], [0.7777777777777778, \"#fb9f3a\"], [0.8888888888888888, \"#fdca26\"], [1.0, \"#f0f921\"]], \"type\": \"heatmap\"}], \"heatmapgl\": [{\"colorbar\": {\"outlinewidth\": 0, \"ticks\": \"\"}, \"colorscale\": [[0.0, \"#0d0887\"], [0.1111111111111111, \"#46039f\"], [0.2222222222222222, \"#7201a8\"], [0.3333333333333333, \"#9c179e\"], [0.4444444444444444, \"#bd3786\"], [0.5555555555555556, \"#d8576b\"], [0.6666666666666666, \"#ed7953\"], [0.7777777777777778, \"#fb9f3a\"], [0.8888888888888888, \"#fdca26\"], [1.0, \"#f0f921\"]], \"type\": \"heatmapgl\"}], \"histogram\": [{\"marker\": {\"colorbar\": {\"outlinewidth\": 0, \"ticks\": \"\"}}, \"type\": \"histogram\"}], \"histogram2d\": [{\"colorbar\": {\"outlinewidth\": 0, \"ticks\": \"\"}, \"colorscale\": [[0.0, \"#0d0887\"], [0.1111111111111111, \"#46039f\"], [0.2222222222222222, \"#7201a8\"], [0.3333333333333333, \"#9c179e\"], [0.4444444444444444, \"#bd3786\"], [0.5555555555555556, \"#d8576b\"], [0.6666666666666666, \"#ed7953\"], [0.7777777777777778, \"#fb9f3a\"], [0.8888888888888888, \"#fdca26\"], [1.0, \"#f0f921\"]], \"type\": \"histogram2d\"}], \"histogram2dcontour\": [{\"colorbar\": {\"outlinewidth\": 0, \"ticks\": \"\"}, \"colorscale\": [[0.0, \"#0d0887\"], [0.1111111111111111, \"#46039f\"], [0.2222222222222222, \"#7201a8\"], [0.3333333333333333, \"#9c179e\"], [0.4444444444444444, \"#bd3786\"], [0.5555555555555556, \"#d8576b\"], [0.6666666666666666, \"#ed7953\"], [0.7777777777777778, \"#fb9f3a\"], [0.8888888888888888, \"#fdca26\"], [1.0, \"#f0f921\"]], \"type\": \"histogram2dcontour\"}], \"mesh3d\": [{\"colorbar\": {\"outlinewidth\": 0, \"ticks\": \"\"}, \"type\": \"mesh3d\"}], \"parcoords\": [{\"line\": {\"colorbar\": {\"outlinewidth\": 0, \"ticks\": \"\"}}, \"type\": \"parcoords\"}], \"pie\": [{\"automargin\": true, \"type\": \"pie\"}], \"scatter\": [{\"marker\": {\"colorbar\": {\"outlinewidth\": 0, \"ticks\": \"\"}}, \"type\": \"scatter\"}], \"scatter3d\": [{\"line\": {\"colorbar\": {\"outlinewidth\": 0, \"ticks\": \"\"}}, \"marker\": {\"colorbar\": {\"outlinewidth\": 0, \"ticks\": \"\"}}, \"type\": \"scatter3d\"}], \"scattercarpet\": [{\"marker\": {\"colorbar\": {\"outlinewidth\": 0, \"ticks\": \"\"}}, \"type\": \"scattercarpet\"}], \"scattergeo\": [{\"marker\": {\"colorbar\": {\"outlinewidth\": 0, \"ticks\": \"\"}}, \"type\": \"scattergeo\"}], \"scattergl\": [{\"marker\": {\"colorbar\": {\"outlinewidth\": 0, \"ticks\": \"\"}}, \"type\": \"scattergl\"}], \"scattermapbox\": [{\"marker\": {\"colorbar\": {\"outlinewidth\": 0, \"ticks\": \"\"}}, \"type\": \"scattermapbox\"}], \"scatterpolar\": [{\"marker\": {\"colorbar\": {\"outlinewidth\": 0, \"ticks\": \"\"}}, \"type\": \"scatterpolar\"}], \"scatterpolargl\": [{\"marker\": {\"colorbar\": {\"outlinewidth\": 0, \"ticks\": \"\"}}, \"type\": \"scatterpolargl\"}], \"scatterternary\": [{\"marker\": {\"colorbar\": {\"outlinewidth\": 0, \"ticks\": \"\"}}, \"type\": \"scatterternary\"}], \"surface\": [{\"colorbar\": {\"outlinewidth\": 0, \"ticks\": \"\"}, \"colorscale\": [[0.0, \"#0d0887\"], [0.1111111111111111, \"#46039f\"], [0.2222222222222222, \"#7201a8\"], [0.3333333333333333, \"#9c179e\"], [0.4444444444444444, \"#bd3786\"], [0.5555555555555556, \"#d8576b\"], [0.6666666666666666, \"#ed7953\"], [0.7777777777777778, \"#fb9f3a\"], [0.8888888888888888, \"#fdca26\"], [1.0, \"#f0f921\"]], \"type\": \"surface\"}], \"table\": [{\"cells\": {\"fill\": {\"color\": \"#EBF0F8\"}, \"line\": {\"color\": \"white\"}}, \"header\": {\"fill\": {\"color\": \"#C8D4E3\"}, \"line\": {\"color\": \"white\"}}, \"type\": \"table\"}]}, \"layout\": {\"annotationdefaults\": {\"arrowcolor\": \"#2a3f5f\", \"arrowhead\": 0, \"arrowwidth\": 1}, \"coloraxis\": {\"colorbar\": {\"outlinewidth\": 0, \"ticks\": \"\"}}, \"colorscale\": {\"diverging\": [[0, \"#8e0152\"], [0.1, \"#c51b7d\"], [0.2, \"#de77ae\"], [0.3, \"#f1b6da\"], [0.4, \"#fde0ef\"], [0.5, \"#f7f7f7\"], [0.6, \"#e6f5d0\"], [0.7, \"#b8e186\"], [0.8, \"#7fbc41\"], [0.9, \"#4d9221\"], [1, \"#276419\"]], \"sequential\": [[0.0, \"#0d0887\"], [0.1111111111111111, \"#46039f\"], [0.2222222222222222, \"#7201a8\"], [0.3333333333333333, \"#9c179e\"], [0.4444444444444444, \"#bd3786\"], [0.5555555555555556, \"#d8576b\"], [0.6666666666666666, \"#ed7953\"], [0.7777777777777778, \"#fb9f3a\"], [0.8888888888888888, \"#fdca26\"], [1.0, \"#f0f921\"]], \"sequentialminus\": [[0.0, \"#0d0887\"], [0.1111111111111111, \"#46039f\"], [0.2222222222222222, \"#7201a8\"], [0.3333333333333333, \"#9c179e\"], [0.4444444444444444, \"#bd3786\"], [0.5555555555555556, \"#d8576b\"], [0.6666666666666666, \"#ed7953\"], [0.7777777777777778, \"#fb9f3a\"], [0.8888888888888888, \"#fdca26\"], [1.0, \"#f0f921\"]]}, \"colorway\": [\"#636efa\", \"#EF553B\", \"#00cc96\", \"#ab63fa\", \"#FFA15A\", \"#19d3f3\", \"#FF6692\", \"#B6E880\", \"#FF97FF\", \"#FECB52\"], \"font\": {\"color\": \"#2a3f5f\"}, \"geo\": {\"bgcolor\": \"white\", \"lakecolor\": \"white\", \"landcolor\": \"#E5ECF6\", \"showlakes\": true, \"showland\": true, \"subunitcolor\": \"white\"}, \"hoverlabel\": {\"align\": \"left\"}, \"hovermode\": \"closest\", \"mapbox\": {\"style\": \"light\"}, \"paper_bgcolor\": \"white\", \"plot_bgcolor\": \"#E5ECF6\", \"polar\": {\"angularaxis\": {\"gridcolor\": \"white\", \"linecolor\": \"white\", \"ticks\": \"\"}, \"bgcolor\": \"#E5ECF6\", \"radialaxis\": {\"gridcolor\": \"white\", \"linecolor\": \"white\", \"ticks\": \"\"}}, \"scene\": {\"xaxis\": {\"backgroundcolor\": \"#E5ECF6\", \"gridcolor\": \"white\", \"gridwidth\": 2, \"linecolor\": \"white\", \"showbackground\": true, \"ticks\": \"\", \"zerolinecolor\": \"white\"}, \"yaxis\": {\"backgroundcolor\": \"#E5ECF6\", \"gridcolor\": \"white\", \"gridwidth\": 2, \"linecolor\": \"white\", \"showbackground\": true, \"ticks\": \"\", \"zerolinecolor\": \"white\"}, \"zaxis\": {\"backgroundcolor\": \"#E5ECF6\", \"gridcolor\": \"white\", \"gridwidth\": 2, \"linecolor\": \"white\", \"showbackground\": true, \"ticks\": \"\", \"zerolinecolor\": \"white\"}}, \"shapedefaults\": {\"line\": {\"color\": \"#2a3f5f\"}}, \"ternary\": {\"aaxis\": {\"gridcolor\": \"white\", \"linecolor\": \"white\", \"ticks\": \"\"}, \"baxis\": {\"gridcolor\": \"white\", \"linecolor\": \"white\", \"ticks\": \"\"}, \"bgcolor\": \"#E5ECF6\", \"caxis\": {\"gridcolor\": \"white\", \"linecolor\": \"white\", \"ticks\": \"\"}}, \"title\": {\"x\": 0.05}, \"xaxis\": {\"automargin\": true, \"gridcolor\": \"white\", \"linecolor\": \"white\", \"ticks\": \"\", \"title\": {\"standoff\": 15}, \"zerolinecolor\": \"white\", \"zerolinewidth\": 2}, \"yaxis\": {\"automargin\": true, \"gridcolor\": \"white\", \"linecolor\": \"white\", \"ticks\": \"\", \"title\": {\"standoff\": 15}, \"zerolinecolor\": \"white\", \"zerolinewidth\": 2}}}, \"updatemenus\": [{\"buttons\": [{\"args\": [null, {\"frame\": {\"duration\": 3000, \"redraw\": true}, \"fromcurrent\": true, \"mode\": \"immediate\", \"transition\": {\"duration\": 500, \"easing\": \"linear\"}}], \"label\": \"&#9654;\", \"method\": \"animate\"}, {\"args\": [[null], {\"frame\": {\"duration\": 0, \"redraw\": true}, \"fromcurrent\": true, \"mode\": \"immediate\", \"transition\": {\"duration\": 0, \"easing\": \"linear\"}}], \"label\": \"&#9724;\", \"method\": \"animate\"}], \"direction\": \"left\", \"pad\": {\"r\": 10, \"t\": 70}, \"showactive\": false, \"type\": \"buttons\", \"x\": 0.1, \"xanchor\": \"right\", \"y\": 0, \"yanchor\": \"top\"}], \"width\": 1300, \"xaxis\": {\"anchor\": \"y\", \"categoryorder\": \"total descending\", \"domain\": [0.0, 1.0], \"title\": {\"text\": \"Date\"}}, \"yaxis\": {\"anchor\": \"x\", \"domain\": [0.0, 1.0], \"title\": {\"text\": \"Expenses\"}}},\n",
              "                        {\"responsive\": true}\n",
              "                    ).then(function(){\n",
              "                            Plotly.addFrames('a145d644-27fb-46ca-9036-594e0d5cbd15', [{\"data\": [{\"alignmentgroup\": \"True\", \"hoverlabel\": {\"namelength\": 0}, \"hovertemplate\": \"<b>%{hovertext}</b><br><br>Company Name=OLYMPIA INDUSTRIES LTD<br>Date=%{x}<br>Expenses=%{y}\", \"hovertext\": [0.79, 0.3, 0.34, 6.23, 117.12, 181.79, 236.88, 173.98, 127.29, 134.12], \"legendgroup\": \"Company Name=OLYMPIA INDUSTRIES LTD\", \"marker\": {\"color\": \"#636efa\"}, \"name\": \"Company Name=OLYMPIA INDUSTRIES LTD\", \"offsetgroup\": \"Company Name=OLYMPIA INDUSTRIES LTD\", \"orientation\": \"v\", \"showlegend\": true, \"textposition\": \"auto\", \"x\": [\"2011-03-31T00:00:00\", \"2012-03-31T00:00:00\", \"2013-03-31T00:00:00\", \"2014-03-31T00:00:00\", \"2015-03-31T00:00:00\", \"2016-03-31T00:00:00\", \"2017-03-31T00:00:00\", \"2018-03-31T00:00:00\", \"2019-03-31T00:00:00\", \"2020-03-31T00:00:00\"], \"xaxis\": \"x\", \"y\": [0.79, 0.3, 0.34, 6.23, 117.12, 181.79, 236.88, 173.98, 127.29, 134.12], \"yaxis\": \"y\", \"type\": \"bar\"}], \"name\": \"OLYMPIA INDUSTRIES LTD\"}, {\"data\": [{\"alignmentgroup\": \"True\", \"hoverlabel\": {\"namelength\": 0}, \"hovertemplate\": \"<b>%{hovertext}</b><br><br>Company Name=JUST DIAL LTD<br>Date=%{x}<br>Expenses=%{y}\", \"hovertext\": [138.55, 194.78, 319.09, 424.14, 523.43, 609.0, 617.31, 662.52, 680.19, 520.33], \"legendgroup\": \"Company Name=JUST DIAL LTD\", \"marker\": {\"color\": \"#EF553B\"}, \"name\": \"Company Name=JUST DIAL LTD\", \"offsetgroup\": \"Company Name=JUST DIAL LTD\", \"orientation\": \"v\", \"showlegend\": true, \"textposition\": \"auto\", \"x\": [\"2011-03-31T00:00:00\", \"2012-03-31T00:00:00\", \"2014-03-31T00:00:00\", \"2015-03-31T00:00:00\", \"2016-03-31T00:00:00\", \"2017-03-31T00:00:00\", \"2018-03-31T00:00:00\", \"2019-03-31T00:00:00\", \"2020-03-31T00:00:00\", \"2021-03-31T00:00:00\"], \"xaxis\": \"x\", \"y\": [138.55, 194.78, 319.09, 424.14, 523.43, 609.0, 617.31, 662.52, 680.19, 520.33], \"yaxis\": \"y\", \"type\": \"bar\"}], \"name\": \"JUST DIAL LTD\"}, {\"data\": [{\"alignmentgroup\": \"True\", \"hoverlabel\": {\"namelength\": 0}, \"hovertemplate\": \"<b>%{hovertext}</b><br><br>Company Name=INFO EDGE (INDIA) LTD<br>Date=%{x}<br>Expenses=%{y}\", \"hovertext\": [274.45, 362.95, 473.18, 716.85, 656.5, 886.65, 769.42, 1142.19, 1662.45, 1058.59], \"legendgroup\": \"Company Name=INFO EDGE (INDIA) LTD\", \"marker\": {\"color\": \"#00cc96\"}, \"name\": \"Company Name=INFO EDGE (INDIA) LTD\", \"offsetgroup\": \"Company Name=INFO EDGE (INDIA) LTD\", \"orientation\": \"v\", \"showlegend\": true, \"textposition\": \"auto\", \"x\": [\"2012-03-31T00:00:00\", \"2013-03-31T00:00:00\", \"2014-03-31T00:00:00\", \"2015-03-31T00:00:00\", \"2016-03-31T00:00:00\", \"2017-03-31T00:00:00\", \"2018-03-31T00:00:00\", \"2019-03-31T00:00:00\", \"2020-03-31T00:00:00\", \"2021-03-31T00:00:00\"], \"xaxis\": \"x\", \"y\": [274.45, 362.95, 473.18, 716.85, 656.5, 886.65, 769.42, 1142.19, 1662.45, 1058.59], \"yaxis\": \"y\", \"type\": \"bar\"}], \"name\": \"INFO EDGE (INDIA) LTD\"}, {\"data\": [{\"alignmentgroup\": \"True\", \"hoverlabel\": {\"namelength\": 0}, \"hovertemplate\": \"<b>%{hovertext}</b><br><br>Company Name=INDIAMART INTERMESH LTD<br>Date=%{x}<br>Expenses=%{y}\", \"hovertext\": [216.41, 369.78, 391.44, 486.74, 490.34, 471.6, 344.1], \"legendgroup\": \"Company Name=INDIAMART INTERMESH LTD\", \"marker\": {\"color\": \"#ab63fa\"}, \"name\": \"Company Name=INDIAMART INTERMESH LTD\", \"offsetgroup\": \"Company Name=INDIAMART INTERMESH LTD\", \"orientation\": \"v\", \"showlegend\": true, \"textposition\": \"auto\", \"x\": [\"2015-03-31T00:00:00\", \"2016-03-31T00:00:00\", \"2017-03-31T00:00:00\", \"2018-03-31T00:00:00\", \"2019-03-31T00:00:00\", \"2020-03-31T00:00:00\", \"2021-03-31T00:00:00\"], \"xaxis\": \"x\", \"y\": [216.41, 369.78, 391.44, 486.74, 490.34, 471.6, 344.1], \"yaxis\": \"y\", \"type\": \"bar\"}], \"name\": \"INDIAMART INTERMESH LTD\"}, {\"data\": [{\"alignmentgroup\": \"True\", \"hoverlabel\": {\"namelength\": 0}, \"hovertemplate\": \"<b>%{hovertext}</b><br><br>Company Name=NURECA LTD<br>Date=%{x}<br>Expenses=%{y}\", \"hovertext\": [52.85, 89.74, 151.91], \"legendgroup\": \"Company Name=NURECA LTD\", \"marker\": {\"color\": \"#FFA15A\"}, \"name\": \"Company Name=NURECA LTD\", \"offsetgroup\": \"Company Name=NURECA LTD\", \"orientation\": \"v\", \"showlegend\": true, \"textposition\": \"auto\", \"x\": [\"2019-03-31T00:00:00\", \"2020-03-31T00:00:00\", \"2021-03-31T00:00:00\"], \"xaxis\": \"x\", \"y\": [52.85, 89.74, 151.91], \"yaxis\": \"y\", \"type\": \"bar\"}], \"name\": \"NURECA LTD\"}]);\n",
              "                        }).then(function(){\n",
              "                            \n",
              "var gd = document.getElementById('a145d644-27fb-46ca-9036-594e0d5cbd15');\n",
              "var x = new MutationObserver(function (mutations, observer) {{\n",
              "        var display = window.getComputedStyle(gd).display;\n",
              "        if (!display || display === 'none') {{\n",
              "            console.log([gd, 'removed!']);\n",
              "            Plotly.purge(gd);\n",
              "            observer.disconnect();\n",
              "        }}\n",
              "}});\n",
              "\n",
              "// Listen for the removal of the full notebook cells\n",
              "var notebookContainer = gd.closest('#notebook-container');\n",
              "if (notebookContainer) {{\n",
              "    x.observe(notebookContainer, {childList: true});\n",
              "}}\n",
              "\n",
              "// Listen for the clearing of the current output cell\n",
              "var outputEl = gd.closest('.output');\n",
              "if (outputEl) {{\n",
              "    x.observe(outputEl, {childList: true});\n",
              "}}\n",
              "\n",
              "                        })\n",
              "                };\n",
              "                \n",
              "            </script>\n",
              "        </div>\n",
              "</body>\n",
              "</html>"
            ]
          },
          "metadata": {
            "tags": []
          }
        }
      ]
    },
    {
      "cell_type": "markdown",
      "metadata": {
        "id": "pxIHfqrfqiGE"
      },
      "source": [
        "# ProfitLoss--> Sale **Analysis**"
      ]
    },
    {
      "cell_type": "code",
      "metadata": {
        "colab": {
          "base_uri": "https://localhost:8080/",
          "height": 513
        },
        "id": "A0ijXKrljViA",
        "outputId": "8e1349bf-a25b-4069-f97a-accb19077b92"
      },
      "source": [
        "with plt.xkcd():\n",
        "    fig=plt.figure(figsize=(7,7))\n",
        "    plt.pie(x=dfprofitloss[dfprofitloss['Date']=='2020-03-31']['Sales'], labels=dfprofitloss[dfprofitloss['Date']=='2020-03-31']['Company Name'], autopct='%.2f',radius=1.5);\n",
        "    plt.suptitle(\"Amount of sales as on 31st march 2020\",size=20)"
      ],
      "execution_count": null,
      "outputs": [
        {
          "output_type": "display_data",
          "data": {
            "image/png": "[encoded data removed]",
            "text/plain": [
              "<Figure size 504x504 with 1 Axes>"
            ]
          },
          "metadata": {
            "tags": []
          }
        }
      ]
    },
    {
      "cell_type": "code",
      "metadata": {
        "colab": {
          "base_uri": "https://localhost:8080/",
          "height": 617
        },
        "id": "9RiO5b66XUZi",
        "outputId": "930dd845-f6c3-48e0-ad5b-2c06c15307da"
      },
      "source": [
        "newdfPL['year'] = newdfPL['Date'].dt.year\n",
        "fig = px.bar(newdfPL, x='Date', y='Sales', animation_frame='Company Name',hover_name='Sales',color='Company Name',width=1300,height=600)\n",
        "fig.layout.updatemenus[0].buttons[0].args[1]['frame'][\"duration\"] = 3000\n",
        "fig.update_layout(xaxis={'categoryorder':'total descending'},)\n",
        "fig.show()"
      ],
      "execution_count": null,
      "outputs": [
        {
          "output_type": "display_data",
          "data": {
            "text/html": [
              "<html>\n",
              "<head><meta charset=\"utf-8\" /></head>\n",
              "<body>\n",
              "    <div>\n",
              "            <script src=\"https://cdnjs.cloudflare.com/ajax/libs/mathjax/2.7.5/MathJax.js?config=TeX-AMS-MML_SVG\"></script><script type=\"text/javascript\">if (window.MathJax) {MathJax.Hub.Config({SVG: {font: \"STIX-Web\"}});}</script>\n",
              "                <script type=\"text/javascript\">window.PlotlyConfig = {MathJaxConfig: 'local'};</script>\n",
              "        <script src=\"https://cdn.plot.ly/plotly-latest.min.js\"></script>    \n",
              "            <div id=\"3dd9e533-0bb0-4a3e-a68e-090ec59c58da\" class=\"plotly-graph-div\" style=\"height:600px; width:1300px;\"></div>\n",
              "            <script type=\"text/javascript\">\n",
              "                \n",
              "                    window.PLOTLYENV=window.PLOTLYENV || {};\n",
              "                    \n",
              "                if (document.getElementById(\"3dd9e533-0bb0-4a3e-a68e-090ec59c58da\")) {\n",
              "                    Plotly.newPlot(\n",
              "                        '3dd9e533-0bb0-4a3e-a68e-090ec59c58da',\n",
              "                        [{\"alignmentgroup\": \"True\", \"hoverlabel\": {\"namelength\": 0}, \"hovertemplate\": \"<b>%{hovertext}</b><br><br>Company Name=OLYMPIA INDUSTRIES LTD<br>Date=%{x}<br>Sales=%{y}\", \"hovertext\": [1.02, 0.0, 0.09, 6.59, 122.54, 187.15, 244.92, 177.53, 127.68, 132.92], \"legendgroup\": \"Company Name=OLYMPIA INDUSTRIES LTD\", \"marker\": {\"color\": \"#636efa\"}, \"name\": \"Company Name=OLYMPIA INDUSTRIES LTD\", \"offsetgroup\": \"Company Name=OLYMPIA INDUSTRIES LTD\", \"orientation\": \"v\", \"showlegend\": true, \"textposition\": \"auto\", \"type\": \"bar\", \"x\": [\"2011-03-31T00:00:00\", \"2012-03-31T00:00:00\", \"2013-03-31T00:00:00\", \"2014-03-31T00:00:00\", \"2015-03-31T00:00:00\", \"2016-03-31T00:00:00\", \"2017-03-31T00:00:00\", \"2018-03-31T00:00:00\", \"2019-03-31T00:00:00\", \"2020-03-31T00:00:00\"], \"xaxis\": \"x\", \"y\": [1.02, 0.0, 0.09, 6.59, 122.54, 187.15, 244.92, 177.53, 127.68, 132.92], \"yaxis\": \"y\"}],\n",
              "                        {\"barmode\": \"relative\", \"height\": 600, \"legend\": {\"tracegroupgap\": 0}, \"margin\": {\"t\": 60}, \"sliders\": [{\"active\": 0, \"currentvalue\": {\"prefix\": \"Company Name=\"}, \"len\": 0.9, \"pad\": {\"b\": 10, \"t\": 60}, \"steps\": [{\"args\": [[\"OLYMPIA INDUSTRIES LTD\"], {\"frame\": {\"duration\": 0, \"redraw\": true}, \"fromcurrent\": true, \"mode\": \"immediate\", \"transition\": {\"duration\": 0, \"easing\": \"linear\"}}], \"label\": \"OLYMPIA INDUSTRIES LTD\", \"method\": \"animate\"}, {\"args\": [[\"JUST DIAL LTD\"], {\"frame\": {\"duration\": 0, \"redraw\": true}, \"fromcurrent\": true, \"mode\": \"immediate\", \"transition\": {\"duration\": 0, \"easing\": \"linear\"}}], \"label\": \"JUST DIAL LTD\", \"method\": \"animate\"}, {\"args\": [[\"INFO EDGE (INDIA) LTD\"], {\"frame\": {\"duration\": 0, \"redraw\": true}, \"fromcurrent\": true, \"mode\": \"immediate\", \"transition\": {\"duration\": 0, \"easing\": \"linear\"}}], \"label\": \"INFO EDGE (INDIA) LTD\", \"method\": \"animate\"}, {\"args\": [[\"INDIAMART INTERMESH LTD\"], {\"frame\": {\"duration\": 0, \"redraw\": true}, \"fromcurrent\": true, \"mode\": \"immediate\", \"transition\": {\"duration\": 0, \"easing\": \"linear\"}}], \"label\": \"INDIAMART INTERMESH LTD\", \"method\": \"animate\"}, {\"args\": [[\"NURECA LTD\"], {\"frame\": {\"duration\": 0, \"redraw\": true}, \"fromcurrent\": true, \"mode\": \"immediate\", \"transition\": {\"duration\": 0, \"easing\": \"linear\"}}], \"label\": \"NURECA LTD\", \"method\": \"animate\"}], \"x\": 0.1, \"xanchor\": \"left\", \"y\": 0, \"yanchor\": \"top\"}], \"template\": {\"data\": {\"bar\": [{\"error_x\": {\"color\": \"#2a3f5f\"}, \"error_y\": {\"color\": \"#2a3f5f\"}, \"marker\": {\"line\": {\"color\": \"#E5ECF6\", \"width\": 0.5}}, \"type\": \"bar\"}], \"barpolar\": [{\"marker\": {\"line\": {\"color\": \"#E5ECF6\", \"width\": 0.5}}, \"type\": \"barpolar\"}], \"carpet\": [{\"aaxis\": {\"endlinecolor\": \"#2a3f5f\", \"gridcolor\": \"white\", \"linecolor\": \"white\", \"minorgridcolor\": \"white\", \"startlinecolor\": \"#2a3f5f\"}, \"baxis\": {\"endlinecolor\": \"#2a3f5f\", \"gridcolor\": \"white\", \"linecolor\": \"white\", \"minorgridcolor\": \"white\", \"startlinecolor\": \"#2a3f5f\"}, \"type\": \"carpet\"}], \"choropleth\": [{\"colorbar\": {\"outlinewidth\": 0, \"ticks\": \"\"}, \"type\": \"choropleth\"}], \"contour\": [{\"colorbar\": {\"outlinewidth\": 0, \"ticks\": \"\"}, \"colorscale\": [[0.0, \"#0d0887\"], [0.1111111111111111, \"#46039f\"], [0.2222222222222222, \"#7201a8\"], [0.3333333333333333, \"#9c179e\"], [0.4444444444444444, \"#bd3786\"], [0.5555555555555556, \"#d8576b\"], [0.6666666666666666, \"#ed7953\"], [0.7777777777777778, \"#fb9f3a\"], [0.8888888888888888, \"#fdca26\"], [1.0, \"#f0f921\"]], \"type\": \"contour\"}], \"contourcarpet\": [{\"colorbar\": {\"outlinewidth\": 0, \"ticks\": \"\"}, \"type\": \"contourcarpet\"}], \"heatmap\": [{\"colorbar\": {\"outlinewidth\": 0, \"ticks\": \"\"}, \"colorscale\": [[0.0, \"#0d0887\"], [0.1111111111111111, \"#46039f\"], [0.2222222222222222, \"#7201a8\"], [0.3333333333333333, \"#9c179e\"], [0.4444444444444444, \"#bd3786\"], [0.5555555555555556, \"#d8576b\"], [0.6666666666666666, \"#ed7953\"], [0.7777777777777778, \"#fb9f3a\"], [0.8888888888888888, \"#fdca26\"], [1.0, \"#f0f921\"]], \"type\": \"heatmap\"}], \"heatmapgl\": [{\"colorbar\": {\"outlinewidth\": 0, \"ticks\": \"\"}, \"colorscale\": [[0.0, \"#0d0887\"], [0.1111111111111111, \"#46039f\"], [0.2222222222222222, \"#7201a8\"], [0.3333333333333333, \"#9c179e\"], [0.4444444444444444, \"#bd3786\"], [0.5555555555555556, \"#d8576b\"], [0.6666666666666666, \"#ed7953\"], [0.7777777777777778, \"#fb9f3a\"], [0.8888888888888888, \"#fdca26\"], [1.0, \"#f0f921\"]], \"type\": \"heatmapgl\"}], \"histogram\": [{\"marker\": {\"colorbar\": {\"outlinewidth\": 0, \"ticks\": \"\"}}, \"type\": \"histogram\"}], \"histogram2d\": [{\"colorbar\": {\"outlinewidth\": 0, \"ticks\": \"\"}, \"colorscale\": [[0.0, \"#0d0887\"], [0.1111111111111111, \"#46039f\"], [0.2222222222222222, \"#7201a8\"], [0.3333333333333333, \"#9c179e\"], [0.4444444444444444, \"#bd3786\"], [0.5555555555555556, \"#d8576b\"], [0.6666666666666666, \"#ed7953\"], [0.7777777777777778, \"#fb9f3a\"], [0.8888888888888888, \"#fdca26\"], [1.0, \"#f0f921\"]], \"type\": \"histogram2d\"}], \"histogram2dcontour\": [{\"colorbar\": {\"outlinewidth\": 0, \"ticks\": \"\"}, \"colorscale\": [[0.0, \"#0d0887\"], [0.1111111111111111, \"#46039f\"], [0.2222222222222222, \"#7201a8\"], [0.3333333333333333, \"#9c179e\"], [0.4444444444444444, \"#bd3786\"], [0.5555555555555556, \"#d8576b\"], [0.6666666666666666, \"#ed7953\"], [0.7777777777777778, \"#fb9f3a\"], [0.8888888888888888, \"#fdca26\"], [1.0, \"#f0f921\"]], \"type\": \"histogram2dcontour\"}], \"mesh3d\": [{\"colorbar\": {\"outlinewidth\": 0, \"ticks\": \"\"}, \"type\": \"mesh3d\"}], \"parcoords\": [{\"line\": {\"colorbar\": {\"outlinewidth\": 0, \"ticks\": \"\"}}, \"type\": \"parcoords\"}], \"pie\": [{\"automargin\": true, \"type\": \"pie\"}], \"scatter\": [{\"marker\": {\"colorbar\": {\"outlinewidth\": 0, \"ticks\": \"\"}}, \"type\": \"scatter\"}], \"scatter3d\": [{\"line\": {\"colorbar\": {\"outlinewidth\": 0, \"ticks\": \"\"}}, \"marker\": {\"colorbar\": {\"outlinewidth\": 0, \"ticks\": \"\"}}, \"type\": \"scatter3d\"}], \"scattercarpet\": [{\"marker\": {\"colorbar\": {\"outlinewidth\": 0, \"ticks\": \"\"}}, \"type\": \"scattercarpet\"}], \"scattergeo\": [{\"marker\": {\"colorbar\": {\"outlinewidth\": 0, \"ticks\": \"\"}}, \"type\": \"scattergeo\"}], \"scattergl\": [{\"marker\": {\"colorbar\": {\"outlinewidth\": 0, \"ticks\": \"\"}}, \"type\": \"scattergl\"}], \"scattermapbox\": [{\"marker\": {\"colorbar\": {\"outlinewidth\": 0, \"ticks\": \"\"}}, \"type\": \"scattermapbox\"}], \"scatterpolar\": [{\"marker\": {\"colorbar\": {\"outlinewidth\": 0, \"ticks\": \"\"}}, \"type\": \"scatterpolar\"}], \"scatterpolargl\": [{\"marker\": {\"colorbar\": {\"outlinewidth\": 0, \"ticks\": \"\"}}, \"type\": \"scatterpolargl\"}], \"scatterternary\": [{\"marker\": {\"colorbar\": {\"outlinewidth\": 0, \"ticks\": \"\"}}, \"type\": \"scatterternary\"}], \"surface\": [{\"colorbar\": {\"outlinewidth\": 0, \"ticks\": \"\"}, \"colorscale\": [[0.0, \"#0d0887\"], [0.1111111111111111, \"#46039f\"], [0.2222222222222222, \"#7201a8\"], [0.3333333333333333, \"#9c179e\"], [0.4444444444444444, \"#bd3786\"], [0.5555555555555556, \"#d8576b\"], [0.6666666666666666, \"#ed7953\"], [0.7777777777777778, \"#fb9f3a\"], [0.8888888888888888, \"#fdca26\"], [1.0, \"#f0f921\"]], \"type\": \"surface\"}], \"table\": [{\"cells\": {\"fill\": {\"color\": \"#EBF0F8\"}, \"line\": {\"color\": \"white\"}}, \"header\": {\"fill\": {\"color\": \"#C8D4E3\"}, \"line\": {\"color\": \"white\"}}, \"type\": \"table\"}]}, \"layout\": {\"annotationdefaults\": {\"arrowcolor\": \"#2a3f5f\", \"arrowhead\": 0, \"arrowwidth\": 1}, \"coloraxis\": {\"colorbar\": {\"outlinewidth\": 0, \"ticks\": \"\"}}, \"colorscale\": {\"diverging\": [[0, \"#8e0152\"], [0.1, \"#c51b7d\"], [0.2, \"#de77ae\"], [0.3, \"#f1b6da\"], [0.4, \"#fde0ef\"], [0.5, \"#f7f7f7\"], [0.6, \"#e6f5d0\"], [0.7, \"#b8e186\"], [0.8, \"#7fbc41\"], [0.9, \"#4d9221\"], [1, \"#276419\"]], \"sequential\": [[0.0, \"#0d0887\"], [0.1111111111111111, \"#46039f\"], [0.2222222222222222, \"#7201a8\"], [0.3333333333333333, \"#9c179e\"], [0.4444444444444444, \"#bd3786\"], [0.5555555555555556, \"#d8576b\"], [0.6666666666666666, \"#ed7953\"], [0.7777777777777778, \"#fb9f3a\"], [0.8888888888888888, \"#fdca26\"], [1.0, \"#f0f921\"]], \"sequentialminus\": [[0.0, \"#0d0887\"], [0.1111111111111111, \"#46039f\"], [0.2222222222222222, \"#7201a8\"], [0.3333333333333333, \"#9c179e\"], [0.4444444444444444, \"#bd3786\"], [0.5555555555555556, \"#d8576b\"], [0.6666666666666666, \"#ed7953\"], [0.7777777777777778, \"#fb9f3a\"], [0.8888888888888888, \"#fdca26\"], [1.0, \"#f0f921\"]]}, \"colorway\": [\"#636efa\", \"#EF553B\", \"#00cc96\", \"#ab63fa\", \"#FFA15A\", \"#19d3f3\", \"#FF6692\", \"#B6E880\", \"#FF97FF\", \"#FECB52\"], \"font\": {\"color\": \"#2a3f5f\"}, \"geo\": {\"bgcolor\": \"white\", \"lakecolor\": \"white\", \"landcolor\": \"#E5ECF6\", \"showlakes\": true, \"showland\": true, \"subunitcolor\": \"white\"}, \"hoverlabel\": {\"align\": \"left\"}, \"hovermode\": \"closest\", \"mapbox\": {\"style\": \"light\"}, \"paper_bgcolor\": \"white\", \"plot_bgcolor\": \"#E5ECF6\", \"polar\": {\"angularaxis\": {\"gridcolor\": \"white\", \"linecolor\": \"white\", \"ticks\": \"\"}, \"bgcolor\": \"#E5ECF6\", \"radialaxis\": {\"gridcolor\": \"white\", \"linecolor\": \"white\", \"ticks\": \"\"}}, \"scene\": {\"xaxis\": {\"backgroundcolor\": \"#E5ECF6\", \"gridcolor\": \"white\", \"gridwidth\": 2, \"linecolor\": \"white\", \"showbackground\": true, \"ticks\": \"\", \"zerolinecolor\": \"white\"}, \"yaxis\": {\"backgroundcolor\": \"#E5ECF6\", \"gridcolor\": \"white\", \"gridwidth\": 2, \"linecolor\": \"white\", \"showbackground\": true, \"ticks\": \"\", \"zerolinecolor\": \"white\"}, \"zaxis\": {\"backgroundcolor\": \"#E5ECF6\", \"gridcolor\": \"white\", \"gridwidth\": 2, \"linecolor\": \"white\", \"showbackground\": true, \"ticks\": \"\", \"zerolinecolor\": \"white\"}}, \"shapedefaults\": {\"line\": {\"color\": \"#2a3f5f\"}}, \"ternary\": {\"aaxis\": {\"gridcolor\": \"white\", \"linecolor\": \"white\", \"ticks\": \"\"}, \"baxis\": {\"gridcolor\": \"white\", \"linecolor\": \"white\", \"ticks\": \"\"}, \"bgcolor\": \"#E5ECF6\", \"caxis\": {\"gridcolor\": \"white\", \"linecolor\": \"white\", \"ticks\": \"\"}}, \"title\": {\"x\": 0.05}, \"xaxis\": {\"automargin\": true, \"gridcolor\": \"white\", \"linecolor\": \"white\", \"ticks\": \"\", \"title\": {\"standoff\": 15}, \"zerolinecolor\": \"white\", \"zerolinewidth\": 2}, \"yaxis\": {\"automargin\": true, \"gridcolor\": \"white\", \"linecolor\": \"white\", \"ticks\": \"\", \"title\": {\"standoff\": 15}, \"zerolinecolor\": \"white\", \"zerolinewidth\": 2}}}, \"updatemenus\": [{\"buttons\": [{\"args\": [null, {\"frame\": {\"duration\": 3000, \"redraw\": true}, \"fromcurrent\": true, \"mode\": \"immediate\", \"transition\": {\"duration\": 500, \"easing\": \"linear\"}}], \"label\": \"&#9654;\", \"method\": \"animate\"}, {\"args\": [[null], {\"frame\": {\"duration\": 0, \"redraw\": true}, \"fromcurrent\": true, \"mode\": \"immediate\", \"transition\": {\"duration\": 0, \"easing\": \"linear\"}}], \"label\": \"&#9724;\", \"method\": \"animate\"}], \"direction\": \"left\", \"pad\": {\"r\": 10, \"t\": 70}, \"showactive\": false, \"type\": \"buttons\", \"x\": 0.1, \"xanchor\": \"right\", \"y\": 0, \"yanchor\": \"top\"}], \"width\": 1300, \"xaxis\": {\"anchor\": \"y\", \"categoryorder\": \"total descending\", \"domain\": [0.0, 1.0], \"title\": {\"text\": \"Date\"}}, \"yaxis\": {\"anchor\": \"x\", \"domain\": [0.0, 1.0], \"title\": {\"text\": \"Sales\"}}},\n",
              "                        {\"responsive\": true}\n",
              "                    ).then(function(){\n",
              "                            Plotly.addFrames('3dd9e533-0bb0-4a3e-a68e-090ec59c58da', [{\"data\": [{\"alignmentgroup\": \"True\", \"hoverlabel\": {\"namelength\": 0}, \"hovertemplate\": \"<b>%{hovertext}</b><br><br>Company Name=OLYMPIA INDUSTRIES LTD<br>Date=%{x}<br>Sales=%{y}\", \"hovertext\": [1.02, 0.0, 0.09, 6.59, 122.54, 187.15, 244.92, 177.53, 127.68, 132.92], \"legendgroup\": \"Company Name=OLYMPIA INDUSTRIES LTD\", \"marker\": {\"color\": \"#636efa\"}, \"name\": \"Company Name=OLYMPIA INDUSTRIES LTD\", \"offsetgroup\": \"Company Name=OLYMPIA INDUSTRIES LTD\", \"orientation\": \"v\", \"showlegend\": true, \"textposition\": \"auto\", \"x\": [\"2011-03-31T00:00:00\", \"2012-03-31T00:00:00\", \"2013-03-31T00:00:00\", \"2014-03-31T00:00:00\", \"2015-03-31T00:00:00\", \"2016-03-31T00:00:00\", \"2017-03-31T00:00:00\", \"2018-03-31T00:00:00\", \"2019-03-31T00:00:00\", \"2020-03-31T00:00:00\"], \"xaxis\": \"x\", \"y\": [1.02, 0.0, 0.09, 6.59, 122.54, 187.15, 244.92, 177.53, 127.68, 132.92], \"yaxis\": \"y\", \"type\": \"bar\"}], \"name\": \"OLYMPIA INDUSTRIES LTD\"}, {\"data\": [{\"alignmentgroup\": \"True\", \"hoverlabel\": {\"namelength\": 0}, \"hovertemplate\": \"<b>%{hovertext}</b><br><br>Company Name=JUST DIAL LTD<br>Date=%{x}<br>Sales=%{y}\", \"hovertext\": [179.6, 259.4, 461.29, 589.8, 667.66, 718.61, 781.77, 891.5, 953.11, 675.18], \"legendgroup\": \"Company Name=JUST DIAL LTD\", \"marker\": {\"color\": \"#EF553B\"}, \"name\": \"Company Name=JUST DIAL LTD\", \"offsetgroup\": \"Company Name=JUST DIAL LTD\", \"orientation\": \"v\", \"showlegend\": true, \"textposition\": \"auto\", \"x\": [\"2011-03-31T00:00:00\", \"2012-03-31T00:00:00\", \"2014-03-31T00:00:00\", \"2015-03-31T00:00:00\", \"2016-03-31T00:00:00\", \"2017-03-31T00:00:00\", \"2018-03-31T00:00:00\", \"2019-03-31T00:00:00\", \"2020-03-31T00:00:00\", \"2021-03-31T00:00:00\"], \"xaxis\": \"x\", \"y\": [179.6, 259.4, 461.29, 589.8, 667.66, 718.61, 781.77, 891.5, 953.11, 675.18], \"yaxis\": \"y\", \"type\": \"bar\"}], \"name\": \"JUST DIAL LTD\"}, {\"data\": [{\"alignmentgroup\": \"True\", \"hoverlabel\": {\"namelength\": 0}, \"hovertemplate\": \"<b>%{hovertext}</b><br><br>Company Name=INFO EDGE (INDIA) LTD<br>Date=%{x}<br>Sales=%{y}\", \"hovertext\": [391.88, 472.32, 567.22, 732.49, 747.51, 887.63, 988.24, 1150.93, 1311.93, 1120.12], \"legendgroup\": \"Company Name=INFO EDGE (INDIA) LTD\", \"marker\": {\"color\": \"#00cc96\"}, \"name\": \"Company Name=INFO EDGE (INDIA) LTD\", \"offsetgroup\": \"Company Name=INFO EDGE (INDIA) LTD\", \"orientation\": \"v\", \"showlegend\": true, \"textposition\": \"auto\", \"x\": [\"2012-03-31T00:00:00\", \"2013-03-31T00:00:00\", \"2014-03-31T00:00:00\", \"2015-03-31T00:00:00\", \"2016-03-31T00:00:00\", \"2017-03-31T00:00:00\", \"2018-03-31T00:00:00\", \"2019-03-31T00:00:00\", \"2020-03-31T00:00:00\", \"2021-03-31T00:00:00\"], \"xaxis\": \"x\", \"y\": [391.88, 472.32, 567.22, 732.49, 747.51, 887.63, 988.24, 1150.93, 1311.93, 1120.12], \"yaxis\": \"y\", \"type\": \"bar\"}], \"name\": \"INFO EDGE (INDIA) LTD\"}, {\"data\": [{\"alignmentgroup\": \"True\", \"hoverlabel\": {\"namelength\": 0}, \"hovertemplate\": \"<b>%{hovertext}</b><br><br>Company Name=INDIAMART INTERMESH LTD<br>Date=%{x}<br>Sales=%{y}\", \"hovertext\": [176.07, 254.29, 317.76, 410.51, 507.42, 638.85, 669.6], \"legendgroup\": \"Company Name=INDIAMART INTERMESH LTD\", \"marker\": {\"color\": \"#ab63fa\"}, \"name\": \"Company Name=INDIAMART INTERMESH LTD\", \"offsetgroup\": \"Company Name=INDIAMART INTERMESH LTD\", \"orientation\": \"v\", \"showlegend\": true, \"textposition\": \"auto\", \"x\": [\"2015-03-31T00:00:00\", \"2016-03-31T00:00:00\", \"2017-03-31T00:00:00\", \"2018-03-31T00:00:00\", \"2019-03-31T00:00:00\", \"2020-03-31T00:00:00\", \"2021-03-31T00:00:00\"], \"xaxis\": \"x\", \"y\": [176.07, 254.29, 317.76, 410.51, 507.42, 638.85, 669.6], \"yaxis\": \"y\", \"type\": \"bar\"}], \"name\": \"INDIAMART INTERMESH LTD\"}, {\"data\": [{\"alignmentgroup\": \"True\", \"hoverlabel\": {\"namelength\": 0}, \"hovertemplate\": \"<b>%{hovertext}</b><br><br>Company Name=NURECA LTD<br>Date=%{x}<br>Sales=%{y}\", \"hovertext\": [61.9, 99.43, 213.45], \"legendgroup\": \"Company Name=NURECA LTD\", \"marker\": {\"color\": \"#FFA15A\"}, \"name\": \"Company Name=NURECA LTD\", \"offsetgroup\": \"Company Name=NURECA LTD\", \"orientation\": \"v\", \"showlegend\": true, \"textposition\": \"auto\", \"x\": [\"2019-03-31T00:00:00\", \"2020-03-31T00:00:00\", \"2021-03-31T00:00:00\"], \"xaxis\": \"x\", \"y\": [61.9, 99.43, 213.45], \"yaxis\": \"y\", \"type\": \"bar\"}], \"name\": \"NURECA LTD\"}]);\n",
              "                        }).then(function(){\n",
              "                            \n",
              "var gd = document.getElementById('3dd9e533-0bb0-4a3e-a68e-090ec59c58da');\n",
              "var x = new MutationObserver(function (mutations, observer) {{\n",
              "        var display = window.getComputedStyle(gd).display;\n",
              "        if (!display || display === 'none') {{\n",
              "            console.log([gd, 'removed!']);\n",
              "            Plotly.purge(gd);\n",
              "            observer.disconnect();\n",
              "        }}\n",
              "}});\n",
              "\n",
              "// Listen for the removal of the full notebook cells\n",
              "var notebookContainer = gd.closest('#notebook-container');\n",
              "if (notebookContainer) {{\n",
              "    x.observe(notebookContainer, {childList: true});\n",
              "}}\n",
              "\n",
              "// Listen for the clearing of the current output cell\n",
              "var outputEl = gd.closest('.output');\n",
              "if (outputEl) {{\n",
              "    x.observe(outputEl, {childList: true});\n",
              "}}\n",
              "\n",
              "                        })\n",
              "                };\n",
              "                \n",
              "            </script>\n",
              "        </div>\n",
              "</body>\n",
              "</html>"
            ]
          },
          "metadata": {
            "tags": []
          }
        }
      ]
    },
    {
      "cell_type": "markdown",
      "metadata": {
        "id": "jWaQvTiSB4En"
      },
      "source": [
        "Seperate Data frame for all companies"
      ]
    },
    {
      "cell_type": "code",
      "metadata": {
        "id": "zW7C8Wwq9GIe"
      },
      "source": [
        "df_indmart_pl= dfprofitloss[dfprofitloss['Company Name']=='INDIAMART INTERMESH LTD']\n"
      ],
      "execution_count": null,
      "outputs": []
    },
    {
      "cell_type": "code",
      "metadata": {
        "id": "8I4bcmnF-5ZC"
      },
      "source": [
        "df_info_pl= dfprofitloss[dfprofitloss['Company Name']=='INFO EDGE (INDIA) LTD']\n"
      ],
      "execution_count": null,
      "outputs": []
    },
    {
      "cell_type": "code",
      "metadata": {
        "id": "7Dsd5Jh4_yqJ"
      },
      "source": [
        "df_jd_pl= dfprofitloss[dfprofitloss['Company Name']=='JUST DIAL LTD']\n"
      ],
      "execution_count": null,
      "outputs": []
    },
    {
      "cell_type": "code",
      "metadata": {
        "id": "2E7qa81oADT1"
      },
      "source": [
        "df_nur_pl= dfprofitloss[dfprofitloss['Company Name']=='NURECA LTD']"
      ],
      "execution_count": null,
      "outputs": []
    },
    {
      "cell_type": "code",
      "metadata": {
        "id": "dzaYRUigATlj"
      },
      "source": [
        "df_olymp_pl= dfprofitloss[dfprofitloss['Company Name']=='OLYMPIA INDUSTRIES LTD']"
      ],
      "execution_count": null,
      "outputs": []
    },
    {
      "cell_type": "markdown",
      "metadata": {
        "id": "16K9qOMNWlU6"
      },
      "source": [
        "**IndiaMart Net profit trend**"
      ]
    },
    {
      "cell_type": "code",
      "metadata": {
        "id": "vZu4Jkd6E89f"
      },
      "source": [
        "df_indmart_pl_Net=df_indmart_pl.iloc[:,[0,9]]"
      ],
      "execution_count": null,
      "outputs": []
    },
    {
      "cell_type": "code",
      "metadata": {
        "colab": {
          "base_uri": "https://localhost:8080/"
        },
        "id": "DpGYeDcJF8Ya",
        "outputId": "61f791a8-c259-4024-90ed-8466fb99ae1a"
      },
      "source": [
        "df_indmart_pl_Net.info()"
      ],
      "execution_count": null,
      "outputs": [
        {
          "output_type": "stream",
          "text": [
            "<class 'pandas.core.frame.DataFrame'>\n",
            "Int64Index: 7 entries, 0 to 6\n",
            "Data columns (total 2 columns):\n",
            " #   Column      Non-Null Count  Dtype         \n",
            "---  ------      --------------  -----         \n",
            " 0   Date        7 non-null      datetime64[ns]\n",
            " 1   Net profit  7 non-null      float64       \n",
            "dtypes: datetime64[ns](1), float64(1)\n",
            "memory usage: 168.0 bytes\n"
          ],
          "name": "stdout"
        }
      ]
    },
    {
      "cell_type": "code",
      "metadata": {
        "colab": {
          "base_uri": "https://localhost:8080/",
          "height": 296
        },
        "id": "i-iEXBb4GQwl",
        "outputId": "2d965550-7d27-4226-efae-6e3d0ea50bf0"
      },
      "source": [
        "df_indmart_pl_Net.plot('Date','Net profit')"
      ],
      "execution_count": null,
      "outputs": [
        {
          "output_type": "execute_result",
          "data": {
            "text/plain": [
              "<matplotlib.axes._subplots.AxesSubplot at 0x7fb5072b1fd0>"
            ]
          },
          "metadata": {
            "tags": []
          },
          "execution_count": 201
        },
        {
          "output_type": "display_data",
          "data": {
            "image/png": "[encoded data removed]",
            "text/plain": [
              "<Figure size 432x288 with 1 Axes>"
            ]
          },
          "metadata": {
            "tags": [],
            "needs_background": "light"
          }
        }
      ]
    },
    {
      "cell_type": "markdown",
      "metadata": {
        "id": "Z0lkDC_aTxaL"
      },
      "source": [
        "**IndiaMart company profit loss --> Net profit Prediction**"
      ]
    },
    {
      "cell_type": "code",
      "metadata": {
        "id": "xOSFeckwaARd"
      },
      "source": [
        "from fbprophet import Prophet\n",
        "# Initialize the Model\n",
        "model=Prophet()"
      ],
      "execution_count": null,
      "outputs": []
    },
    {
      "cell_type": "code",
      "metadata": {
        "colab": {
          "base_uri": "https://localhost:8080/",
          "height": 203
        },
        "id": "nGhZhekTabHF",
        "outputId": "b5da62a3-4bf5-4480-d216-068028029a39"
      },
      "source": [
        "df_indmart_pl_Net.columns = ['ds','y']\n",
        "df_indmart_pl_Net.head()"
      ],
      "execution_count": null,
      "outputs": [
        {
          "output_type": "execute_result",
          "data": {
            "text/html": [
              "<div>\n",
              "<style scoped>\n",
              "    .dataframe tbody tr th:only-of-type {\n",
              "        vertical-align: middle;\n",
              "    }\n",
              "\n",
              "    .dataframe tbody tr th {\n",
              "        vertical-align: top;\n",
              "    }\n",
              "\n",
              "    .dataframe thead th {\n",
              "        text-align: right;\n",
              "    }\n",
              "</style>\n",
              "<table border=\"1\" class=\"dataframe\">\n",
              "  <thead>\n",
              "    <tr style=\"text-align: right;\">\n",
              "      <th></th>\n",
              "      <th>ds</th>\n",
              "      <th>y</th>\n",
              "    </tr>\n",
              "  </thead>\n",
              "  <tbody>\n",
              "    <tr>\n",
              "      <th>0</th>\n",
              "      <td>2015-03-31</td>\n",
              "      <td>-31.89</td>\n",
              "    </tr>\n",
              "    <tr>\n",
              "      <th>1</th>\n",
              "      <td>2016-03-31</td>\n",
              "      <td>-115.91</td>\n",
              "    </tr>\n",
              "    <tr>\n",
              "      <th>2</th>\n",
              "      <td>2017-03-31</td>\n",
              "      <td>-64.35</td>\n",
              "    </tr>\n",
              "    <tr>\n",
              "      <th>3</th>\n",
              "      <td>2018-03-31</td>\n",
              "      <td>54.76</td>\n",
              "    </tr>\n",
              "    <tr>\n",
              "      <th>4</th>\n",
              "      <td>2019-03-31</td>\n",
              "      <td>20.04</td>\n",
              "    </tr>\n",
              "  </tbody>\n",
              "</table>\n",
              "</div>"
            ],
            "text/plain": [
              "          ds       y\n",
              "0 2015-03-31  -31.89\n",
              "1 2016-03-31 -115.91\n",
              "2 2017-03-31  -64.35\n",
              "3 2018-03-31   54.76\n",
              "4 2019-03-31   20.04"
            ]
          },
          "metadata": {
            "tags": []
          },
          "execution_count": 203
        }
      ]
    },
    {
      "cell_type": "code",
      "metadata": {
        "colab": {
          "base_uri": "https://localhost:8080/"
        },
        "id": "alfL8dC7aGk7",
        "outputId": "b799df3d-4fda-436c-b8f8-ea9295725869"
      },
      "source": [
        "model.fit(df_indmart_pl_Net)"
      ],
      "execution_count": null,
      "outputs": [
        {
          "output_type": "stream",
          "text": [
            "INFO:fbprophet:Disabling weekly seasonality. Run prophet with weekly_seasonality=True to override this.\n",
            "INFO:fbprophet:Disabling daily seasonality. Run prophet with daily_seasonality=True to override this.\n",
            "INFO:fbprophet:n_changepoints greater than number of observations. Using 4.\n"
          ],
          "name": "stderr"
        },
        {
          "output_type": "execute_result",
          "data": {
            "text/plain": [
              "<fbprophet.forecaster.Prophet at 0x7fb5083ace10>"
            ]
          },
          "metadata": {
            "tags": []
          },
          "execution_count": 204
        }
      ]
    },
    {
      "cell_type": "code",
      "metadata": {
        "id": "Q7OUO6KgcVv-"
      },
      "source": [
        "future_dates=model.make_future_dataframe(periods=4,freq='Y')"
      ],
      "execution_count": null,
      "outputs": []
    },
    {
      "cell_type": "code",
      "metadata": {
        "colab": {
          "base_uri": "https://localhost:8080/",
          "height": 593
        },
        "id": "fZZEmaTocfCg",
        "outputId": "175a663f-a441-4d2b-c4b6-2bc860ffd5d9"
      },
      "source": [
        "prediction=model.predict(future_dates)\n",
        "prediction"
      ],
      "execution_count": null,
      "outputs": [
        {
          "output_type": "execute_result",
          "data": {
            "text/html": [
              "<div>\n",
              "<style scoped>\n",
              "    .dataframe tbody tr th:only-of-type {\n",
              "        vertical-align: middle;\n",
              "    }\n",
              "\n",
              "    .dataframe tbody tr th {\n",
              "        vertical-align: top;\n",
              "    }\n",
              "\n",
              "    .dataframe thead th {\n",
              "        text-align: right;\n",
              "    }\n",
              "</style>\n",
              "<table border=\"1\" class=\"dataframe\">\n",
              "  <thead>\n",
              "    <tr style=\"text-align: right;\">\n",
              "      <th></th>\n",
              "      <th>ds</th>\n",
              "      <th>trend</th>\n",
              "      <th>yhat_lower</th>\n",
              "      <th>yhat_upper</th>\n",
              "      <th>trend_lower</th>\n",
              "      <th>trend_upper</th>\n",
              "      <th>additive_terms</th>\n",
              "      <th>additive_terms_lower</th>\n",
              "      <th>additive_terms_upper</th>\n",
              "      <th>yearly</th>\n",
              "      <th>yearly_lower</th>\n",
              "      <th>yearly_upper</th>\n",
              "      <th>multiplicative_terms</th>\n",
              "      <th>multiplicative_terms_lower</th>\n",
              "      <th>multiplicative_terms_upper</th>\n",
              "      <th>yhat</th>\n",
              "    </tr>\n",
              "  </thead>\n",
              "  <tbody>\n",
              "    <tr>\n",
              "      <th>0</th>\n",
              "      <td>2015-03-31</td>\n",
              "      <td>-17.754969</td>\n",
              "      <td>-186.152392</td>\n",
              "      <td>-39.796130</td>\n",
              "      <td>-17.754969</td>\n",
              "      <td>-17.754969</td>\n",
              "      <td>-94.268245</td>\n",
              "      <td>-94.268245</td>\n",
              "      <td>-94.268245</td>\n",
              "      <td>-94.268245</td>\n",
              "      <td>-94.268245</td>\n",
              "      <td>-94.268245</td>\n",
              "      <td>0.0</td>\n",
              "      <td>0.0</td>\n",
              "      <td>0.0</td>\n",
              "      <td>-112.023214</td>\n",
              "    </tr>\n",
              "    <tr>\n",
              "      <th>1</th>\n",
              "      <td>2016-03-31</td>\n",
              "      <td>38.921427</td>\n",
              "      <td>-162.429551</td>\n",
              "      <td>-8.734700</td>\n",
              "      <td>38.921427</td>\n",
              "      <td>38.921427</td>\n",
              "      <td>-125.591424</td>\n",
              "      <td>-125.591424</td>\n",
              "      <td>-125.591424</td>\n",
              "      <td>-125.591424</td>\n",
              "      <td>-125.591424</td>\n",
              "      <td>-125.591424</td>\n",
              "      <td>0.0</td>\n",
              "      <td>0.0</td>\n",
              "      <td>0.0</td>\n",
              "      <td>-86.669997</td>\n",
              "    </tr>\n",
              "    <tr>\n",
              "      <th>2</th>\n",
              "      <td>2017-03-31</td>\n",
              "      <td>95.442969</td>\n",
              "      <td>-94.111061</td>\n",
              "      <td>55.712049</td>\n",
              "      <td>95.442969</td>\n",
              "      <td>95.442969</td>\n",
              "      <td>-114.927485</td>\n",
              "      <td>-114.927485</td>\n",
              "      <td>-114.927485</td>\n",
              "      <td>-114.927485</td>\n",
              "      <td>-114.927485</td>\n",
              "      <td>-114.927485</td>\n",
              "      <td>0.0</td>\n",
              "      <td>0.0</td>\n",
              "      <td>0.0</td>\n",
              "      <td>-19.484517</td>\n",
              "    </tr>\n",
              "    <tr>\n",
              "      <th>3</th>\n",
              "      <td>2018-03-31</td>\n",
              "      <td>151.964511</td>\n",
              "      <td>-25.132705</td>\n",
              "      <td>122.687809</td>\n",
              "      <td>151.964511</td>\n",
              "      <td>151.964511</td>\n",
              "      <td>-104.482195</td>\n",
              "      <td>-104.482195</td>\n",
              "      <td>-104.482195</td>\n",
              "      <td>-104.482195</td>\n",
              "      <td>-104.482195</td>\n",
              "      <td>-104.482195</td>\n",
              "      <td>0.0</td>\n",
              "      <td>0.0</td>\n",
              "      <td>0.0</td>\n",
              "      <td>47.482316</td>\n",
              "    </tr>\n",
              "    <tr>\n",
              "      <th>4</th>\n",
              "      <td>2019-03-31</td>\n",
              "      <td>208.486053</td>\n",
              "      <td>38.970943</td>\n",
              "      <td>184.391226</td>\n",
              "      <td>208.486053</td>\n",
              "      <td>208.486053</td>\n",
              "      <td>-94.268245</td>\n",
              "      <td>-94.268245</td>\n",
              "      <td>-94.268245</td>\n",
              "      <td>-94.268245</td>\n",
              "      <td>-94.268245</td>\n",
              "      <td>-94.268245</td>\n",
              "      <td>0.0</td>\n",
              "      <td>0.0</td>\n",
              "      <td>0.0</td>\n",
              "      <td>114.217808</td>\n",
              "    </tr>\n",
              "    <tr>\n",
              "      <th>5</th>\n",
              "      <td>2020-03-31</td>\n",
              "      <td>265.162449</td>\n",
              "      <td>69.403454</td>\n",
              "      <td>209.294900</td>\n",
              "      <td>265.162449</td>\n",
              "      <td>265.162449</td>\n",
              "      <td>-125.591424</td>\n",
              "      <td>-125.591424</td>\n",
              "      <td>-125.591424</td>\n",
              "      <td>-125.591424</td>\n",
              "      <td>-125.591424</td>\n",
              "      <td>-125.591424</td>\n",
              "      <td>0.0</td>\n",
              "      <td>0.0</td>\n",
              "      <td>0.0</td>\n",
              "      <td>139.571025</td>\n",
              "    </tr>\n",
              "    <tr>\n",
              "      <th>6</th>\n",
              "      <td>2021-03-31</td>\n",
              "      <td>321.683991</td>\n",
              "      <td>134.032688</td>\n",
              "      <td>285.529965</td>\n",
              "      <td>321.683991</td>\n",
              "      <td>321.683991</td>\n",
              "      <td>-114.927485</td>\n",
              "      <td>-114.927485</td>\n",
              "      <td>-114.927485</td>\n",
              "      <td>-114.927485</td>\n",
              "      <td>-114.927485</td>\n",
              "      <td>-114.927485</td>\n",
              "      <td>0.0</td>\n",
              "      <td>0.0</td>\n",
              "      <td>0.0</td>\n",
              "      <td>206.756506</td>\n",
              "    </tr>\n",
              "    <tr>\n",
              "      <th>7</th>\n",
              "      <td>2021-12-31</td>\n",
              "      <td>364.268715</td>\n",
              "      <td>317.146044</td>\n",
              "      <td>462.027996</td>\n",
              "      <td>364.268715</td>\n",
              "      <td>364.268715</td>\n",
              "      <td>25.395400</td>\n",
              "      <td>25.395400</td>\n",
              "      <td>25.395400</td>\n",
              "      <td>25.395400</td>\n",
              "      <td>25.395400</td>\n",
              "      <td>25.395400</td>\n",
              "      <td>0.0</td>\n",
              "      <td>0.0</td>\n",
              "      <td>0.0</td>\n",
              "      <td>389.664115</td>\n",
              "    </tr>\n",
              "    <tr>\n",
              "      <th>8</th>\n",
              "      <td>2022-12-31</td>\n",
              "      <td>420.790257</td>\n",
              "      <td>369.983019</td>\n",
              "      <td>512.847030</td>\n",
              "      <td>420.790257</td>\n",
              "      <td>420.790258</td>\n",
              "      <td>21.831405</td>\n",
              "      <td>21.831405</td>\n",
              "      <td>21.831405</td>\n",
              "      <td>21.831405</td>\n",
              "      <td>21.831405</td>\n",
              "      <td>21.831405</td>\n",
              "      <td>0.0</td>\n",
              "      <td>0.0</td>\n",
              "      <td>0.0</td>\n",
              "      <td>442.621662</td>\n",
              "    </tr>\n",
              "    <tr>\n",
              "      <th>9</th>\n",
              "      <td>2023-12-31</td>\n",
              "      <td>477.311799</td>\n",
              "      <td>425.955520</td>\n",
              "      <td>569.571913</td>\n",
              "      <td>477.311798</td>\n",
              "      <td>477.311801</td>\n",
              "      <td>18.308225</td>\n",
              "      <td>18.308225</td>\n",
              "      <td>18.308225</td>\n",
              "      <td>18.308225</td>\n",
              "      <td>18.308225</td>\n",
              "      <td>18.308225</td>\n",
              "      <td>0.0</td>\n",
              "      <td>0.0</td>\n",
              "      <td>0.0</td>\n",
              "      <td>495.620024</td>\n",
              "    </tr>\n",
              "    <tr>\n",
              "      <th>10</th>\n",
              "      <td>2024-12-31</td>\n",
              "      <td>533.988195</td>\n",
              "      <td>488.782289</td>\n",
              "      <td>636.017990</td>\n",
              "      <td>533.988193</td>\n",
              "      <td>533.988198</td>\n",
              "      <td>28.993349</td>\n",
              "      <td>28.993349</td>\n",
              "      <td>28.993349</td>\n",
              "      <td>28.993349</td>\n",
              "      <td>28.993349</td>\n",
              "      <td>28.993349</td>\n",
              "      <td>0.0</td>\n",
              "      <td>0.0</td>\n",
              "      <td>0.0</td>\n",
              "      <td>562.981544</td>\n",
              "    </tr>\n",
              "  </tbody>\n",
              "</table>\n",
              "</div>"
            ],
            "text/plain": [
              "           ds       trend  ...  multiplicative_terms_upper        yhat\n",
              "0  2015-03-31  -17.754969  ...                         0.0 -112.023214\n",
              "1  2016-03-31   38.921427  ...                         0.0  -86.669997\n",
              "2  2017-03-31   95.442969  ...                         0.0  -19.484517\n",
              "3  2018-03-31  151.964511  ...                         0.0   47.482316\n",
              "4  2019-03-31  208.486053  ...                         0.0  114.217808\n",
              "5  2020-03-31  265.162449  ...                         0.0  139.571025\n",
              "6  2021-03-31  321.683991  ...                         0.0  206.756506\n",
              "7  2021-12-31  364.268715  ...                         0.0  389.664115\n",
              "8  2022-12-31  420.790257  ...                         0.0  442.621662\n",
              "9  2023-12-31  477.311799  ...                         0.0  495.620024\n",
              "10 2024-12-31  533.988195  ...                         0.0  562.981544\n",
              "\n",
              "[11 rows x 16 columns]"
            ]
          },
          "metadata": {
            "tags": []
          },
          "execution_count": 234
        }
      ]
    },
    {
      "cell_type": "code",
      "metadata": {
        "colab": {
          "base_uri": "https://localhost:8080/"
        },
        "id": "QQcU5xG5nBaS",
        "outputId": "c9d37f4e-a1e7-4b7d-c3a8-36dfa3ffa7d6"
      },
      "source": [
        "y_true = df_indmart_pl_Net['y'][-4:].values\n",
        "y_true"
      ],
      "execution_count": null,
      "outputs": [
        {
          "output_type": "execute_result",
          "data": {
            "text/plain": [
              "array([ 54.76,  20.04, 147.38, 279.8 ])"
            ]
          },
          "metadata": {
            "tags": []
          },
          "execution_count": 205
        }
      ]
    },
    {
      "cell_type": "code",
      "metadata": {
        "colab": {
          "base_uri": "https://localhost:8080/"
        },
        "id": "wvUNuqHAcmjR",
        "outputId": "0e365e02-d439-4950-d0e9-f00703d8446c"
      },
      "source": [
        "y_predfb =prediction['yhat'][-4:].values\n",
        "y_predfb"
      ],
      "execution_count": null,
      "outputs": [
        {
          "output_type": "execute_result",
          "data": {
            "text/plain": [
              "array([389.66411481, 442.62166243, 495.62002412, 562.98154437])"
            ]
          },
          "metadata": {
            "tags": []
          },
          "execution_count": 235
        }
      ]
    },
    {
      "cell_type": "code",
      "metadata": {
        "colab": {
          "base_uri": "https://localhost:8080/",
          "height": 865
        },
        "id": "MKkxETwGcrBb",
        "outputId": "86ab8f2d-6d52-4158-d3c5-e2e361e2b81f"
      },
      "source": [
        "model.plot(prediction)"
      ],
      "execution_count": null,
      "outputs": [
        {
          "output_type": "execute_result",
          "data": {
            "image/png": "[encoded data removed]",
            "text/plain": [
              "<Figure size 720x432 with 1 Axes>"
            ]
          },
          "metadata": {
            "tags": []
          },
          "execution_count": 236
        },
        {
          "output_type": "display_data",
          "data": {
            "image/png": "[encoded data removed]",
            "text/plain": [
              "<Figure size 720x432 with 1 Axes>"
            ]
          },
          "metadata": {
            "tags": []
          }
        }
      ]
    },
    {
      "cell_type": "code",
      "metadata": {
        "colab": {
          "base_uri": "https://localhost:8080/"
        },
        "id": "JXGJbgdsc2F-",
        "outputId": "1e5e1ad0-79f1-4ad6-a51a-acae923dc825"
      },
      "source": [
        "print(\"FB Prophet\")\n",
        "msefb = mean_squared_error(y_true, y_predfb)\n",
        "print('MSE-FB prophet: '+str(msefb))\n",
        "maefb= mean_absolute_error(y_true, y_predfb)\n",
        "print('MAE-FB prophet: '+str(maefb))\n",
        "rmsefb = math.sqrt(mean_squared_error(y_true, y_predfb))\n",
        "print('RMSE-FB prophet: '+str(rmsefb))\n",
        "mapefb = np.mean(np.abs(y_predfb -y_true)/np.abs(y_true))\n",
        "print('MAPE-FB prophet: '+str(mapefb))"
      ],
      "execution_count": null,
      "outputs": [
        {
          "output_type": "stream",
          "text": [
            "FB Prophet\n",
            "MSE-FB prophet: 123049.73224992254\n",
            "MAE-FB prophet: 347.22683642886483\n",
            "RMSE-FB prophet: 350.7844526912824\n",
            "MAPE-FB prophet: 7.644429903608943\n"
          ],
          "name": "stdout"
        }
      ]
    },
    {
      "cell_type": "markdown",
      "metadata": {
        "id": "pq89FTPyfq2S"
      },
      "source": [
        "# **Multiple Time Series using FB Prophet**"
      ]
    },
    {
      "cell_type": "markdown",
      "metadata": {
        "id": "irm1s2SogSjW"
      },
      "source": [
        "**Sales Prediction for Top 5 Companies**"
      ]
    },
    {
      "cell_type": "code",
      "metadata": {
        "id": "px3vtlKHgxFD"
      },
      "source": [
        "compgrpPLsale=dfprofitloss[['Date','Sales','Expenses','Net profit','Company Name']].rename({'Date':'ds','Sales':'y'},axis='columns')\n",
        "compgrpPLsale.head(5)"
      ],
      "execution_count": null,
      "outputs": []
    },
    {
      "cell_type": "code",
      "metadata": {
        "id": "DQejE8G-a4zO"
      },
      "source": [
        "companies=compgrpPLsale.groupby('Company Name')\n"
      ],
      "execution_count": null,
      "outputs": []
    },
    {
      "cell_type": "code",
      "metadata": {
        "id": "FtP6dgx4b8Pa"
      },
      "source": [
        "target=pd.DataFrame()"
      ],
      "execution_count": null,
      "outputs": []
    },
    {
      "cell_type": "code",
      "metadata": {
        "id": "fdgK43PLcArk"
      },
      "source": [
        "from sklearn.metrics import mean_squared_error\n",
        "\n",
        "for company in companies.groups:\n",
        "  group=companies.get_group(company)\n",
        "  m=Prophet(interval_width=0.80)\n",
        "  m.fit(group)\n",
        "  forecast=m.predict()\n",
        "  future=m.make_future_dataframe(periods=4,freq='Y')\n",
        "  forecast=m.predict(future)\n",
        "  forecast\n",
        "  m.plot(forecast,xlabel='ds_'+company)\n",
        "  forecast=forecast.rename(columns={'yhat':'yhat_'+company})\n",
        "  target=pd.merge(target,forecast.set_index('ds'),how='outer',left_index=True,right_index=True)\n",
        "  \n",
        "  #mse = mean_squared_error(compgrpPLsale['y'],'yhat_'+company)\n",
        "  #print('MSE: '+str(mse))"
      ],
      "execution_count": null,
      "outputs": []
    },
    {
      "cell_type": "markdown",
      "metadata": {
        "id": "7mbVYL9hgh4l"
      },
      "source": [
        "**Net Profit Prediction for Top 5 companies**"
      ]
    },
    {
      "cell_type": "code",
      "metadata": {
        "id": "AXjIY-pxgqAy"
      },
      "source": [
        "compgrpPLnet=dfprofitloss[['Date','Sales','Expenses','Net profit','Company Name']].rename({'Date':'ds','Net profit':'y'},axis='columns')\n",
        "compgrpPLnet.head(5)"
      ],
      "execution_count": null,
      "outputs": []
    },
    {
      "cell_type": "code",
      "metadata": {
        "id": "TJlnjO_nhQ_c"
      },
      "source": [
        "companies1=compgrpPLnet.groupby('Company Name')"
      ],
      "execution_count": null,
      "outputs": []
    },
    {
      "cell_type": "code",
      "metadata": {
        "id": "hlvC8anLhYTF"
      },
      "source": [
        "target1=pd.DataFrame()"
      ],
      "execution_count": null,
      "outputs": []
    },
    {
      "cell_type": "code",
      "metadata": {
        "id": "FZ1Nc3dmh9Bk"
      },
      "source": [
        "for company in companies1.groups:\n",
        "  group=companies1.get_group(company)\n",
        "  m1=Prophet(interval_width=0.95)\n",
        "  m1.fit(group)\n",
        "  future1=m.make_future_dataframe(periods=4,freq='Y')\n",
        "  forecast1=m1.predict(future1)\n",
        "  m1.plot(forecast1,xlabel='ds_'+company)\n",
        "  forecast1=forecast1.rename(columns={'yhat':'yhat_'+company})\n",
        "  target1=pd.merge(target1,forecast1.set_index('ds'),how='outer',left_index=True,right_index=True)"
      ],
      "execution_count": null,
      "outputs": []
    },
    {
      "cell_type": "markdown",
      "metadata": {
        "id": "iRF3m_xgUZ1y"
      },
      "source": [
        "# Profit loss--> Cumulative Net Profit for all companies, **Yearwise**"
      ]
    },
    {
      "cell_type": "code",
      "metadata": {
        "id": "zBsBRsx91YFA"
      },
      "source": [
        "sum=dfprofitloss.groupby([dfprofitloss['Date']])['Sales','Expenses','Operating Profit','Net profit'].sum()\n",
        "sum"
      ],
      "execution_count": null,
      "outputs": []
    },
    {
      "cell_type": "code",
      "metadata": {
        "id": "6maFNryiMuQ3"
      },
      "source": [
        "\n",
        "sum.plot(figsize=(20,10))"
      ],
      "execution_count": null,
      "outputs": []
    },
    {
      "cell_type": "code",
      "metadata": {
        "id": "dRa27z2W2JBY"
      },
      "source": [
        "SumNet=pd.DataFrame(sum).reset_index()\n",
        "SumNet = SumNet.rename(columns = {'Net profit': 'SumNetProfit'}, inplace = False)\n",
        "SumNet"
      ],
      "execution_count": null,
      "outputs": []
    },
    {
      "cell_type": "markdown",
      "metadata": {
        "id": "twBUmXePXcjA"
      },
      "source": [
        "**Cumulative  year wise Trend NET PROFIT**"
      ]
    },
    {
      "cell_type": "code",
      "metadata": {
        "id": "o7ZDXsNLS8v4"
      },
      "source": [
        "import seaborn as sns"
      ],
      "execution_count": null,
      "outputs": []
    },
    {
      "cell_type": "code",
      "metadata": {
        "id": "E7tiU4KcSjLV"
      },
      "source": [
        "fig=plt.figure(figsize=(15,8))\n",
        "\n",
        "ax=sns.lineplot(data=SumNet,x='Date',y='SumNetProfit')"
      ],
      "execution_count": null,
      "outputs": []
    },
    {
      "cell_type": "markdown",
      "metadata": {
        "id": "AJRs55QSpIn-"
      },
      "source": [
        "Prediction--> FB Prophet"
      ]
    },
    {
      "cell_type": "code",
      "metadata": {
        "id": "bhwmNO_Zo0vY"
      },
      "source": [
        "from fbprophet import Prophet\n",
        "# Initialize the Model\n",
        "model1=Prophet()"
      ],
      "execution_count": null,
      "outputs": []
    },
    {
      "cell_type": "code",
      "metadata": {
        "id": "-YJJBz2DZEkK"
      },
      "source": [
        "dfsumnetprofit=SumNet.iloc[:,[0,4]]\n",
        "dfsumnetprofit"
      ],
      "execution_count": null,
      "outputs": []
    },
    {
      "cell_type": "code",
      "metadata": {
        "id": "NJezvfhR_O8G"
      },
      "source": [
        "dfsumnetprofit.columns = ['ds','y']\n",
        "dfsumnetprofit.head()"
      ],
      "execution_count": null,
      "outputs": []
    },
    {
      "cell_type": "code",
      "metadata": {
        "id": "JJKKdbyTUxub"
      },
      "source": [
        "model1.fit(dfsumnetprofit)"
      ],
      "execution_count": null,
      "outputs": []
    },
    {
      "cell_type": "code",
      "metadata": {
        "id": "kMYV2sjQVBJ0"
      },
      "source": [
        "future_dates1=model1.make_future_dataframe(periods=4,freq='Y')"
      ],
      "execution_count": null,
      "outputs": []
    },
    {
      "cell_type": "code",
      "metadata": {
        "id": "nNcy8lm_VLVX"
      },
      "source": [
        "prediction1=model1.predict(future_dates1)\n",
        "prediction1"
      ],
      "execution_count": null,
      "outputs": []
    },
    {
      "cell_type": "code",
      "metadata": {
        "id": "Z_ngYZ6vVUyf"
      },
      "source": [
        "model1.plot(prediction1)"
      ],
      "execution_count": null,
      "outputs": []
    },
    {
      "cell_type": "code",
      "metadata": {
        "id": "xLyKjO5fUpmF"
      },
      "source": [
        ""
      ],
      "execution_count": null,
      "outputs": []
    }
  ]
}